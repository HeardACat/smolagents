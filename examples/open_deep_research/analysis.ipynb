{
 "cells": [
  {
   "cell_type": "code",
   "execution_count": 1,
   "metadata": {},
   "outputs": [],
   "source": [
    "# !pip install plotly kaleido datasets nbformat -U -q"
   ]
  },
  {
   "cell_type": "code",
   "execution_count": 58,
   "metadata": {},
   "outputs": [
    {
     "name": "stderr",
     "output_type": "stream",
     "text": [
      "Note: Environment variable`HF_TOKEN` is set and is the current active token independently from the token you've just configured.\n"
     ]
    }
   ],
   "source": [
    "import os\n",
    "\n",
    "import datasets\n",
    "import pandas as pd\n",
    "from dotenv import load_dotenv\n",
    "from huggingface_hub import login\n",
    "\n",
    "\n",
    "load_dotenv(override=True)\n",
    "login(os.getenv(\"HF_TOKEN\"))\n",
    "\n",
    "pd.set_option(\"max_colwidth\", None)\n",
    "\n",
    "OUTPUT_DIR = \"../../output\""
   ]
  },
  {
   "cell_type": "code",
   "execution_count": 59,
   "metadata": {},
   "outputs": [
    {
     "name": "stderr",
     "output_type": "stream",
     "text": [
      "/Users/aymeric/.pyenv/versions/3.12.0/lib/python3.12/site-packages/datasets/load.py:1486: FutureWarning:\n",
      "\n",
      "The repository for gaia-benchmark/GAIA contains custom code which must be executed to correctly load the dataset. You can inspect the repository content at https://hf.co/datasets/gaia-benchmark/GAIA\n",
      "You can avoid this message in future by passing the argument `trust_remote_code=True`.\n",
      "Passing `trust_remote_code=True` will be mandatory to load this dataset from the next major release of `datasets`.\n",
      "\n",
      "Using the latest cached version of the module from /Users/aymeric/.cache/huggingface/modules/datasets_modules/datasets/gaia-benchmark--GAIA/ec492fe4320ee795b1aed6bb46229c5f693226b0f1316347501c24b4baeee005 (last modified on Tue May 28 10:04:32 2024) since it couldn't be found locally at gaia-benchmark/GAIA, or remotely on the Hugging Face Hub.\n"
     ]
    }
   ],
   "source": [
    "eval_ds = datasets.load_dataset(\"gaia-benchmark/GAIA\", \"2023_all\")[\"validation\"]\n",
    "eval_ds = eval_ds.rename_columns({\"Question\": \"question\", \"Final answer\": \"true_answer\", \"Level\": \"task\"})\n",
    "eval_df = pd.DataFrame(eval_ds)"
   ]
  },
  {
   "cell_type": "markdown",
   "metadata": {},
   "source": [
    "# 1. Load all results"
   ]
  },
  {
   "cell_type": "code",
   "execution_count": 74,
   "metadata": {},
   "outputs": [],
   "source": [
    "import glob\n",
    "\n",
    "\n",
    "results = []\n",
    "for f in glob.glob(f\"{OUTPUT_DIR}/validation/*.jsonl\"):\n",
    "    df = pd.read_json(f, lines=True)\n",
    "    df[\"agent_name\"] = f.split(\"/\")[-1].split(\".\")[0]\n",
    "    results.append(df)\n",
    "\n",
    "result_df = pd.concat(results)\n",
    "result_df = result_df.drop(columns=[\"start_time\", \"end_time\"])\n",
    "result_df[\"prediction\"] = result_df[\"prediction\"].fillna(\"No prediction\")"
   ]
  },
  {
   "cell_type": "code",
   "execution_count": 75,
   "metadata": {},
   "outputs": [
    {
     "name": "stdout",
     "output_type": "stream",
     "text": [
      "String Unable to determine cannot be normalized to number str.\n",
      "String Unable to determine cannot be normalized to number str.\n",
      "String Unable to determine cannot be normalized to number str.\n",
      "String Unable to determine cannot be normalized to number str.\n",
      "String Unable to determine cannot be normalized to number str.\n",
      "String Unable to determine cannot be normalized to number str.\n",
      "String Unable to determine cannot be normalized to number str.\n",
      "String Unable to determine cannot be normalized to number str.\n",
      "String Unable to determine cannot be normalized to number str.\n",
      "String 89706.00 USD cannot be normalized to number str.\n",
      "String Unable to determine cannot be normalized to number str.\n",
      "String Unable to determine cannot be normalized to number str.\n",
      "String Unable to determine cannot be normalized to number str.\n",
      "String Unable to determine cannot be normalized to number str.\n",
      "String Unable to determine cannot be normalized to number str.\n",
      "String Unable to determine cannot be normalized to number str.\n",
      "String Unable to determine cannot be normalized to number str.\n",
      "String Unable to determine cannot be normalized to number str.\n",
      "String Unable to determine cannot be normalized to number str.\n",
      "String Unable to determine cannot be normalized to number str.\n",
      "String Unable to determine cannot be normalized to number str.\n",
      "String 2017 Komo Mai Drive 900000 cannot be normalized to number str.\n",
      "String Unable to determine cannot be normalized to number str.\n",
      "String Unable to determine cannot be normalized to number str.\n",
      "String Unable to determine cannot be normalized to number str.\n",
      "String 100 million cannot be normalized to number str.\n",
      "String Unable to determine cannot be normalized to number str.\n",
      "String Unable to determine cannot be normalized to number str.\n",
      "String Unable to determine cannot be normalized to number str.\n",
      "String Unable to determine cannot be normalized to number str.\n",
      "String Unable to determine cannot be normalized to number str.\n",
      "String Unable to determine cannot be normalized to number str.\n",
      "String Unable to determine cannot be normalized to number str.\n",
      "String Unable to determine cannot be normalized to number str.\n",
      "String No prediction cannot be normalized to number str.\n",
      "String No prediction cannot be normalized to number str.\n",
      "String Unable to determine cannot be normalized to number str.\n",
      "String Unable to determine cannot be normalized to number str.\n",
      "String Higher CFM for Cheater cannot be normalized to number str.\n",
      "String  665 for Cheater Beater cannot be normalized to number str.\n",
      "String Unable to determine cannot be normalized to number str.\n",
      "String Unable to determine cannot be normalized to number str.\n",
      "String Unable to determine cannot be normalized to number str.\n",
      "String Unable to determine cannot be normalized to number str.\n",
      "String Unable to determine cannot be normalized to number str.\n",
      "String Unable to determine cannot be normalized to number str.\n",
      "String Unable to determine cannot be normalized to number str.\n",
      "String Unable to determine cannot be normalized to number str.\n",
      "String Unable to determine cannot be normalized to number str.\n",
      "String Unable to determine cannot be normalized to number str.\n",
      "String Unable to determine cannot be normalized to number str.\n",
      "Close call: To be or not to be that is the question whether tis nobler in the mind to suffer the slings and arrows of outrageous fortune or to take arms against a sea of troubles and by opposing end them vs To be or not to be that is the question whether tis nobler in the mind to suffer the slings and arrows of outrageous fortune\n",
      "Close call: Broccoli, Celery, Fresh Basil, Green Beans, Lettuce, Sweet Potatoes, Zucchini vs broccoli, celery, fresh basil, lettuce, sweet potatoes\n",
      "Close call: rockhopper penguins vs Rockhopper penguin\n",
      "Close call: Egalitarianism vs egalitarian\n",
      "Close call: broccoli, celery, fresh basil, lettuce, sweet potatoes, zucchini vs broccoli, celery, fresh basil, lettuce, sweet potatoes\n",
      "Close call: Egalitarianism vs egalitarian\n",
      "Close call: broccoli, celery, fresh basil, lettuce, sweet potatoes, zucchini vs broccoli, celery, fresh basil, lettuce, sweet potatoes\n",
      "Close call: Brunei Darussalam, China, Morocco, Singapore vs Brunei, China, Morocco, Singapore\n"
     ]
    },
    {
     "name": "stderr",
     "output_type": "stream",
     "text": [
      "/Users/aymeric/Documents/Code/smolagents/examples/open_deep_research/scripts/gaia_scorer.py:52: UserWarning:\n",
      "\n",
      "Answer lists have different lengths, returning False.\n",
      "\n"
     ]
    }
   ],
   "source": [
    "import re\n",
    "from collections import Counter\n",
    "\n",
    "from scripts.gaia_scorer import check_close_call, question_scorer\n",
    "\n",
    "\n",
    "result_df[\"is_correct\"] = result_df.apply(lambda x: question_scorer(x[\"prediction\"], x[\"true_answer\"]), axis=1)\n",
    "result_df[\"is_near_correct\"] = result_df.apply(\n",
    "    lambda x: check_close_call(x[\"prediction\"], x[\"true_answer\"], x[\"is_correct\"]),\n",
    "    axis=1,\n",
    ")\n",
    "\n",
    "result_df[\"count_steps\"] = result_df[\"intermediate_steps\"].apply(len)\n",
    "\n",
    "\n",
    "def find_attachment(question):\n",
    "    matches = eval_df.loc[eval_df[\"question\"].apply(lambda x: x in question), \"file_name\"]\n",
    "\n",
    "    if len(matches) == 0:\n",
    "        return \"Not found\"\n",
    "    file_path = matches.values[0]\n",
    "\n",
    "    if isinstance(file_path, str) and len(file_path) > 0:\n",
    "        return file_path.split(\".\")[-1]\n",
    "    else:\n",
    "        return \"None\"\n",
    "\n",
    "\n",
    "result_df[\"attachment_type\"] = result_df[\"question\"].apply(find_attachment)\n",
    "\n",
    "\n",
    "def extract_tool_calls(code):\n",
    "    regex = r\"\\b(\\w+)\\(\"\n",
    "    function_calls = [el for el in re.findall(regex, code) if el.islower()]\n",
    "\n",
    "    function_call_counter = Counter(function_calls)\n",
    "    return function_call_counter\n",
    "\n",
    "\n",
    "def sum_tool_calls(steps):\n",
    "    total_count = Counter()\n",
    "    for step in steps:\n",
    "        if \"llm_output\" in step:\n",
    "            total_count += extract_tool_calls(step[\"llm_output\"])\n",
    "\n",
    "    return total_count\n",
    "\n",
    "\n",
    "# result_df[\"tool_calls\"] = result_df[\"intermediate_steps\"].apply(sum_tool_calls)"
   ]
  },
  {
   "cell_type": "code",
   "execution_count": 76,
   "metadata": {},
   "outputs": [],
   "source": [
    "def get_thoughts(x):\n",
    "    try:\n",
    "        output = x[0][\"task\"]\n",
    "        for y in x[1:]:\n",
    "            try:\n",
    "                if \"observation\" in y:\n",
    "                    output += y[\"llm_output\"] + \"\\nObservation:\" + y[\"observation\"]\n",
    "                else:\n",
    "                    output += y[\"llm_output\"] + r\"\\Error:\" + str(y[\"error\"])\n",
    "            except Exception:\n",
    "                pass\n",
    "        return output\n",
    "    except Exception:\n",
    "        return None\n",
    "\n",
    "\n",
    "result_df[\"thoughts\"] = result_df[\"intermediate_steps\"].apply(lambda x: get_thoughts(x))"
   ]
  },
  {
   "cell_type": "code",
   "execution_count": 77,
   "metadata": {},
   "outputs": [
    {
     "data": {
      "text/plain": [
       "agent_name\n",
       "generate-traces-03-apr-noplanning               165\n",
       "generate-traces-03-apr                          164\n",
       "07-apr-refacto_system_prompt                    163\n",
       "07-apr-refacto_system_prompt_noplanning         100\n",
       "07-apr-refacto_system_prompt_noplanning_qwen     14\n",
       "Name: count, dtype: int64"
      ]
     },
     "execution_count": 77,
     "metadata": {},
     "output_type": "execute_result"
    }
   ],
   "source": [
    "result_df[\"agent_name\"].value_counts()"
   ]
  },
  {
   "cell_type": "markdown",
   "metadata": {},
   "source": [
    "# 2. Inspect specific runs"
   ]
  },
  {
   "cell_type": "code",
   "execution_count": null,
   "metadata": {},
   "outputs": [
    {
     "data": {
      "text/plain": [
       "agent_name\n",
       "generate-traces-03-apr-noplanning               165\n",
       "generate-traces-03-apr                          164\n",
       "07-apr-refacto_system_prompt                    163\n",
       "07-apr-refacto_system_prompt_noplanning         100\n",
       "07-apr-refacto_system_prompt_noplanning_qwen     14\n",
       "Name: count, dtype: int64"
      ]
     },
     "metadata": {},
     "output_type": "display_data"
    },
    {
     "data": {
      "text/plain": [
       "agent_name                                    task\n",
       "07-apr-refacto_system_prompt                  2       84\n",
       "                                              1       53\n",
       "                                              3       26\n",
       "07-apr-refacto_system_prompt_noplanning       2       51\n",
       "                                              1       35\n",
       "                                              3       14\n",
       "07-apr-refacto_system_prompt_noplanning_qwen  1        9\n",
       "                                              2        4\n",
       "                                              3        1\n",
       "generate-traces-03-apr                        2       86\n",
       "                                              1       53\n",
       "                                              3       25\n",
       "generate-traces-03-apr-noplanning             2       86\n",
       "                                              1       53\n",
       "                                              3       26\n",
       "Name: count, dtype: int64"
      ]
     },
     "metadata": {},
     "output_type": "display_data"
    },
    {
     "name": "stdout",
     "output_type": "stream",
     "text": [
      "Total length: 606 - is complete: False\n"
     ]
    }
   ],
   "source": [
    "# apr_03_noplanning = \"generate-traces-03-apr-noplanning\"\n",
    "# apr_03 = \"generate-traces-03-apr\"\n",
    "# apr_07 = \"07-apr-refacto_system_prompt\"\n",
    "# apr_07_noplanning = \"07-apr-refacto_system_prompt_noplanning\"\n",
    "# apr_07_noplanning_qwen = \"07-apr-refacto_system_prompt_noplanning_qwen\"\n",
    "\n",
    "# list_versions = [apr_03_noplanning, apr_03, apr_07, apr_07_noplanning, apr_07_noplanning_qwen]\n",
    "\n",
    "# submission_selection_name = \"react_code_llama3-70b_02-05_full-gaia-validation-code\"\n",
    "sel_df = result_df\n",
    "# sel_df = sel_df.loc[\n",
    "#     (result_df[\"agent_name\"].isin(list_versions))\n",
    "#     # & (~result_df[\"question\"].isin(UNSOLVED_QUESTIONS))\n",
    "# ]\n",
    "sel_df = sel_df.reset_index(drop=True)\n",
    "display(sel_df[\"agent_name\"].value_counts())\n",
    "sel_df = sel_df.drop_duplicates(subset=[\"agent_name\", \"question\"])\n",
    "display(sel_df.groupby(\"agent_name\")[[\"task\"]].value_counts())\n",
    "print(\"Total length:\", len(sel_df), \"- is complete:\", len(sel_df) == 165)\n",
    "# assert sel_df[\"question\"].value_counts().max() == len(list_versions), \"Some questions are duplicate!\""
   ]
  },
  {
   "cell_type": "code",
   "execution_count": 79,
   "metadata": {},
   "outputs": [
    {
     "data": {
      "text/plain": [
       "'Average score:'"
      ]
     },
     "metadata": {},
     "output_type": "display_data"
    },
    {
     "data": {
      "text/html": [
       "<div>\n",
       "<style scoped>\n",
       "    .dataframe tbody tr th:only-of-type {\n",
       "        vertical-align: middle;\n",
       "    }\n",
       "\n",
       "    .dataframe tbody tr th {\n",
       "        vertical-align: top;\n",
       "    }\n",
       "\n",
       "    .dataframe thead th {\n",
       "        text-align: right;\n",
       "    }\n",
       "</style>\n",
       "<table border=\"1\" class=\"dataframe\">\n",
       "  <thead>\n",
       "    <tr style=\"text-align: right;\">\n",
       "      <th></th>\n",
       "      <th>is_correct</th>\n",
       "    </tr>\n",
       "    <tr>\n",
       "      <th>agent_name</th>\n",
       "      <th></th>\n",
       "    </tr>\n",
       "  </thead>\n",
       "  <tbody>\n",
       "    <tr>\n",
       "      <th>07-apr-refacto_system_prompt</th>\n",
       "      <td>0.356</td>\n",
       "    </tr>\n",
       "    <tr>\n",
       "      <th>07-apr-refacto_system_prompt_noplanning</th>\n",
       "      <td>0.360</td>\n",
       "    </tr>\n",
       "    <tr>\n",
       "      <th>07-apr-refacto_system_prompt_noplanning_qwen</th>\n",
       "      <td>0.286</td>\n",
       "    </tr>\n",
       "    <tr>\n",
       "      <th>generate-traces-03-apr</th>\n",
       "      <td>0.360</td>\n",
       "    </tr>\n",
       "    <tr>\n",
       "      <th>generate-traces-03-apr-noplanning</th>\n",
       "      <td>0.394</td>\n",
       "    </tr>\n",
       "  </tbody>\n",
       "</table>\n",
       "</div>"
      ],
      "text/plain": [
       "                                              is_correct\n",
       "agent_name                                              \n",
       "07-apr-refacto_system_prompt                       0.356\n",
       "07-apr-refacto_system_prompt_noplanning            0.360\n",
       "07-apr-refacto_system_prompt_noplanning_qwen       0.286\n",
       "generate-traces-03-apr                             0.360\n",
       "generate-traces-03-apr-noplanning                  0.394"
      ]
     },
     "metadata": {},
     "output_type": "display_data"
    },
    {
     "data": {
      "text/html": [
       "<div>\n",
       "<style scoped>\n",
       "    .dataframe tbody tr th:only-of-type {\n",
       "        vertical-align: middle;\n",
       "    }\n",
       "\n",
       "    .dataframe tbody tr th {\n",
       "        vertical-align: top;\n",
       "    }\n",
       "\n",
       "    .dataframe thead th {\n",
       "        text-align: right;\n",
       "    }\n",
       "</style>\n",
       "<table border=\"1\" class=\"dataframe\">\n",
       "  <thead>\n",
       "    <tr style=\"text-align: right;\">\n",
       "      <th></th>\n",
       "      <th></th>\n",
       "      <th>is_correct</th>\n",
       "      <th>is_near_correct</th>\n",
       "      <th>count_steps</th>\n",
       "      <th>count</th>\n",
       "    </tr>\n",
       "    <tr>\n",
       "      <th>agent_name</th>\n",
       "      <th>task</th>\n",
       "      <th></th>\n",
       "      <th></th>\n",
       "      <th></th>\n",
       "      <th></th>\n",
       "    </tr>\n",
       "  </thead>\n",
       "  <tbody>\n",
       "    <tr>\n",
       "      <th rowspan=\"3\" valign=\"top\">07-apr-refacto_system_prompt</th>\n",
       "      <th>1</th>\n",
       "      <td>0.471698</td>\n",
       "      <td>0.509434</td>\n",
       "      <td>7.150943</td>\n",
       "      <td>53</td>\n",
       "    </tr>\n",
       "    <tr>\n",
       "      <th>2</th>\n",
       "      <td>0.345238</td>\n",
       "      <td>0.357143</td>\n",
       "      <td>9.892857</td>\n",
       "      <td>84</td>\n",
       "    </tr>\n",
       "    <tr>\n",
       "      <th>3</th>\n",
       "      <td>0.153846</td>\n",
       "      <td>0.153846</td>\n",
       "      <td>12.807692</td>\n",
       "      <td>26</td>\n",
       "    </tr>\n",
       "    <tr>\n",
       "      <th rowspan=\"3\" valign=\"top\">07-apr-refacto_system_prompt_noplanning</th>\n",
       "      <th>1</th>\n",
       "      <td>0.514286</td>\n",
       "      <td>0.542857</td>\n",
       "      <td>8.228571</td>\n",
       "      <td>35</td>\n",
       "    </tr>\n",
       "    <tr>\n",
       "      <th>2</th>\n",
       "      <td>0.294118</td>\n",
       "      <td>0.313725</td>\n",
       "      <td>8.294118</td>\n",
       "      <td>51</td>\n",
       "    </tr>\n",
       "    <tr>\n",
       "      <th>3</th>\n",
       "      <td>0.214286</td>\n",
       "      <td>0.214286</td>\n",
       "      <td>10.785714</td>\n",
       "      <td>14</td>\n",
       "    </tr>\n",
       "    <tr>\n",
       "      <th rowspan=\"3\" valign=\"top\">07-apr-refacto_system_prompt_noplanning_qwen</th>\n",
       "      <th>1</th>\n",
       "      <td>0.333333</td>\n",
       "      <td>0.333333</td>\n",
       "      <td>7.333333</td>\n",
       "      <td>9</td>\n",
       "    </tr>\n",
       "    <tr>\n",
       "      <th>2</th>\n",
       "      <td>0.250000</td>\n",
       "      <td>0.250000</td>\n",
       "      <td>5.750000</td>\n",
       "      <td>4</td>\n",
       "    </tr>\n",
       "    <tr>\n",
       "      <th>3</th>\n",
       "      <td>0.000000</td>\n",
       "      <td>0.000000</td>\n",
       "      <td>14.000000</td>\n",
       "      <td>1</td>\n",
       "    </tr>\n",
       "    <tr>\n",
       "      <th rowspan=\"3\" valign=\"top\">generate-traces-03-apr</th>\n",
       "      <th>1</th>\n",
       "      <td>0.415094</td>\n",
       "      <td>0.415094</td>\n",
       "      <td>9.716981</td>\n",
       "      <td>53</td>\n",
       "    </tr>\n",
       "    <tr>\n",
       "      <th>2</th>\n",
       "      <td>0.395349</td>\n",
       "      <td>0.406977</td>\n",
       "      <td>11.441860</td>\n",
       "      <td>86</td>\n",
       "    </tr>\n",
       "    <tr>\n",
       "      <th>3</th>\n",
       "      <td>0.120000</td>\n",
       "      <td>0.120000</td>\n",
       "      <td>13.400000</td>\n",
       "      <td>25</td>\n",
       "    </tr>\n",
       "    <tr>\n",
       "      <th rowspan=\"3\" valign=\"top\">generate-traces-03-apr-noplanning</th>\n",
       "      <th>1</th>\n",
       "      <td>0.452830</td>\n",
       "      <td>0.471698</td>\n",
       "      <td>8.792453</td>\n",
       "      <td>53</td>\n",
       "    </tr>\n",
       "    <tr>\n",
       "      <th>2</th>\n",
       "      <td>0.418605</td>\n",
       "      <td>0.430233</td>\n",
       "      <td>9.604651</td>\n",
       "      <td>86</td>\n",
       "    </tr>\n",
       "    <tr>\n",
       "      <th>3</th>\n",
       "      <td>0.192308</td>\n",
       "      <td>0.192308</td>\n",
       "      <td>11.692308</td>\n",
       "      <td>26</td>\n",
       "    </tr>\n",
       "  </tbody>\n",
       "</table>\n",
       "</div>"
      ],
      "text/plain": [
       "                                                   is_correct  \\\n",
       "agent_name                                   task               \n",
       "07-apr-refacto_system_prompt                 1       0.471698   \n",
       "                                             2       0.345238   \n",
       "                                             3       0.153846   \n",
       "07-apr-refacto_system_prompt_noplanning      1       0.514286   \n",
       "                                             2       0.294118   \n",
       "                                             3       0.214286   \n",
       "07-apr-refacto_system_prompt_noplanning_qwen 1       0.333333   \n",
       "                                             2       0.250000   \n",
       "                                             3       0.000000   \n",
       "generate-traces-03-apr                       1       0.415094   \n",
       "                                             2       0.395349   \n",
       "                                             3       0.120000   \n",
       "generate-traces-03-apr-noplanning            1       0.452830   \n",
       "                                             2       0.418605   \n",
       "                                             3       0.192308   \n",
       "\n",
       "                                                   is_near_correct  \\\n",
       "agent_name                                   task                    \n",
       "07-apr-refacto_system_prompt                 1            0.509434   \n",
       "                                             2            0.357143   \n",
       "                                             3            0.153846   \n",
       "07-apr-refacto_system_prompt_noplanning      1            0.542857   \n",
       "                                             2            0.313725   \n",
       "                                             3            0.214286   \n",
       "07-apr-refacto_system_prompt_noplanning_qwen 1            0.333333   \n",
       "                                             2            0.250000   \n",
       "                                             3            0.000000   \n",
       "generate-traces-03-apr                       1            0.415094   \n",
       "                                             2            0.406977   \n",
       "                                             3            0.120000   \n",
       "generate-traces-03-apr-noplanning            1            0.471698   \n",
       "                                             2            0.430233   \n",
       "                                             3            0.192308   \n",
       "\n",
       "                                                   count_steps  count  \n",
       "agent_name                                   task                      \n",
       "07-apr-refacto_system_prompt                 1        7.150943     53  \n",
       "                                             2        9.892857     84  \n",
       "                                             3       12.807692     26  \n",
       "07-apr-refacto_system_prompt_noplanning      1        8.228571     35  \n",
       "                                             2        8.294118     51  \n",
       "                                             3       10.785714     14  \n",
       "07-apr-refacto_system_prompt_noplanning_qwen 1        7.333333      9  \n",
       "                                             2        5.750000      4  \n",
       "                                             3       14.000000      1  \n",
       "generate-traces-03-apr                       1        9.716981     53  \n",
       "                                             2       11.441860     86  \n",
       "                                             3       13.400000     25  \n",
       "generate-traces-03-apr-noplanning            1        8.792453     53  \n",
       "                                             2        9.604651     86  \n",
       "                                             3       11.692308     26  "
      ]
     },
     "metadata": {},
     "output_type": "display_data"
    }
   ],
   "source": [
    "display(\"Average score:\", sel_df.groupby(\"agent_name\")[[\"is_correct\"]].mean().round(3))\n",
    "display(\n",
    "    sel_df.groupby([\"agent_name\", \"task\"])[[\"is_correct\", \"is_near_correct\", \"count_steps\", \"question\"]]\n",
    "    .agg(\n",
    "        {\n",
    "            \"is_correct\": \"mean\",\n",
    "            \"is_near_correct\": \"mean\",\n",
    "            \"count_steps\": \"mean\",\n",
    "            \"question\": \"count\",\n",
    "        }\n",
    "    )\n",
    "    .rename(columns={\"question\": \"count\"})\n",
    ")"
   ]
  },
  {
   "cell_type": "code",
   "execution_count": 80,
   "metadata": {},
   "outputs": [
    {
     "data": {
      "application/vnd.plotly.v1+json": {
       "config": {
        "plotlyServerURL": "https://plot.ly"
       },
       "data": [
        {
         "customdata": [
          [
           "An office held a Secret Santa gift exchange where "
          ],
          [
           "Here's a fun riddle that I think you'll enjoy.\n\nYo"
          ],
          [
           "When you take the average of the standard populati"
          ],
          [
           "The attached spreadsheet shows the inventory for a"
          ],
          [
           ".rewsna eht sa \"tfel\" drow eht fo etisoppo eht eti"
          ],
          [
           "Using the Biopython library in Python, parse the P"
          ],
          [
           "What was the volume in m^3 of the fish bag that wa"
          ],
          [
           "In Series 9, Episode 11 of Doctor Who, the Doctor "
          ],
          [
           "How many studio albums were published by Mercedes "
          ],
          [
           "If we assume all articles published by Nature in 2"
          ],
          [
           "What two-word type of model did Manash Pratim Kash"
          ],
          [
           "A paper about AI regulation that was originally su"
          ],
          [
           "In Unlambda, what exact charcter or text needs to "
          ],
          [
           "The object in the British Museum's collection with"
          ],
          [
           "Each cell in the attached spreadsheet represents a"
          ],
          [
           "Use density measures from the chemistry materials "
          ],
          [
           "¬(A ∧ B) ↔ (¬A ∨ ¬B)\n¬(A ∨ B) ↔ (¬A ∧ ¬B)\n(A → B) "
          ],
          [
           "My family reunion is this week, and I was assigned"
          ],
          [
           "Assuming scientists in the famous youtube video Th"
          ],
          [
           "If Eliud Kipchoge could maintain his record-making"
          ],
          [
           "I’m researching species that became invasive after"
          ],
          [
           "In the fictional language of Tizin, basic sentence"
          ],
          [
           "The photograph in the Whitney Museum of American A"
          ],
          [
           "Compute the check digit the Tropicos ID for the Or"
          ],
          [
           "What integer-rounded percentage of the total lengt"
          ],
          [
           "How many High Energy Physics - Lattice articles li"
          ],
          [
           "How many applicants for the job in the PDF are onl"
          ],
          [
           "In the video https://www.youtube.com/watch?v=L1vXC"
          ],
          [
           "What is the average number of pre-2020 works on th"
          ],
          [
           "What are the EC numbers of the two most commonly u"
          ],
          [
           "Review the chess position provided in the image. I"
          ],
          [
           "Which of the text elements under CATEGORIES in the"
          ],
          [
           "Under DDC 633 on Bielefeld University Library's BA"
          ],
          [
           "The attached file contains a list of vendors in th"
          ],
          [
           "In April of 1977, who was the Prime Minister of th"
          ],
          [
           "What's the last line of the rhyme under the flavor"
          ],
          [
           "Of the authors (First M. Last) that worked on the "
          ],
          [
           "Given this table defining * on the set S = {a, b, "
          ],
          [
           "I need to fact-check a citation. This is the citat"
          ],
          [
           "In Emily Midkiff's June 2014 article in a journal "
          ],
          [
           "The attached file shows a list of books in the col"
          ],
          [
           "What writer is quoted by Merriam-Webster for the W"
          ],
          [
           "As a comma separated list with no whitespace, usin"
          ],
          [
           "Who nominated the only Featured Article on English"
          ],
          [
           "Using bass clef notes, what is the age of someone "
          ],
          [
           "According to Google Finance, when was the first ye"
          ],
          [
           "In Nature journal's Scientific Reports conference "
          ],
          [
           "Which contributor to the version of OpenCV where s"
          ],
          [
           "Could you help me out with this assignment? Our pr"
          ],
          [
           "In the year 2022, and before December, what does \""
          ],
          [
           "The attached file lists accommodations in the reso"
          ],
          [
           "According to Box Office Mojo's 2020 Worldwide Box "
          ],
          [
           "According to github, when was Regression added to "
          ],
          [
           "The following numbers function similarly to ISBN 1"
          ],
          [
           "If there is anything that doesn't make sense in th"
          ],
          [
           "In Valentina Re’s contribution to the 2017 book “W"
          ],
          [
           "In July 2, 1959 United States standards for grades"
          ],
          [
           "You are a telecommunications engineer who wants to"
          ],
          [
           "You are Van Helsing, a renowned vampire hunter. A "
          ],
          [
           "Given $x_0 = -5$ and $f(x) = x^3 + 4x^2 - 3x + 8$,"
          ],
          [
           "In terms of geographical distance between capital "
          ],
          [
           "In the NCATS PubChem compound database for Food Ad"
          ],
          [
           "How many slides in this PowerPoint presentation me"
          ],
          [
           "This is a secret message my friend gave me. It say"
          ],
          [
           "I was trying to remember how well the Cheater Beat"
          ],
          [
           "The attached file shows the locomotives in the col"
          ],
          [
           "What is the area of the green polygon in the attac"
          ],
          [
           "I went to Virtue restaurant & bar in Chicago for m"
          ],
          [
           "In the 2018 VSCode blog post on replit.com, what w"
          ],
          [
           "What is the minimum number of page links a person "
          ],
          [
           "Examine the video at https://www.youtube.com/watch"
          ],
          [
           "Find the value of x to the nearest tenth: Lx = (d/"
          ],
          [
           "The attached spreadsheet contains the sales of men"
          ],
          [
           "The Metropolitan Museum of Art has a portrait in i"
          ],
          [
           "In the NIH translation of the original 1913 Michae"
          ],
          [
           "What is the maximum length in meters of #9 in the "
          ],
          [
           "How many pages if the 2023 IPCC report (85 pages v"
          ],
          [
           "According to wikipedia, how many Asian countries s"
          ],
          [
           "What is the volume in milliliters of a system comp"
          ],
          [
           "Look at the attached image. The quiz is scored as "
          ],
          [
           "It is 1999. Before you party like it is 1999, plea"
          ],
          [
           "In the endnote found in the second-to-last paragra"
          ],
          [
           "The attached PDF lists accommodations in the resor"
          ],
          [
           "On July 15, 2008, Phys.org published an article ab"
          ],
          [
           "How many edits were made to the Wikipedia page on "
          ],
          [
           "Hi, I'm making a pie but I could use some help wit"
          ],
          [
           "According to the World Bank, which countries had g"
          ],
          [
           "What animals that were mentioned in both Ilias Lag"
          ],
          [
           "You are given this Excel file as a map. You start "
          ],
          [
           "I was referencing each of the tables in the file f"
          ],
          [
           "I have the Standard plan in the image below, and I"
          ],
          [
           "What is the final numeric output from the attached"
          ],
          [
           "This spreadsheet contains a list of clients for a "
          ],
          [
           "Who composed the song that was performed by a roos"
          ],
          [
           "I’m thinking about selling my home, so I want to l"
          ],
          [
           "What percentage of the total penguin population ac"
          ],
          [
           "In the Scikit-Learn July 2017 changelog, what othe"
          ],
          [
           "Pull out the sentence in the following 5x7 block o"
          ],
          [
           "What is the surname of the equine veterinarian men"
          ],
          [
           "Bob was invited to participate in a game show, and"
          ],
          [
           "The book with the doi 10.1353/book.24372 concerns "
          ],
          [
           "The attached spreadsheet contains a list of books "
          ],
          [
           "Who did the actor who played Ray in the Polish-lan"
          ],
          [
           "How many more blocks (also denoted as layers) in B"
          ],
          [
           "Of the cities within the United States where U.S. "
          ],
          [
           "According to Girls Who Code, how long did it take "
          ],
          [
           "According to the USGS, in what year was the Americ"
          ],
          [
           "Consider the following symbols: 𒐜  𒐐𒐚\n\nThis is a n"
          ],
          [
           "How many nonindigenous crocodiles were found in Fl"
          ],
          [
           "I'm making a grocery list for my mom, but she's a "
          ],
          [
           "What is the last word before the second chorus of "
          ],
          [
           "The longest-lived vertebrate is named after an isl"
          ],
          [
           "The attached spreadsheet lists the locomotives own"
          ],
          [
           "The year is 2022. I am at the National Air and Spa"
          ],
          [
           "How many at bats did the Yankee with the most walk"
          ],
          [
           "The YouTube channel Game Grumps began a Let’s Play"
          ],
          [
           "In Audre Lorde’s poem “Father Son and Holy Ghost”,"
          ],
          [
           "The attached image contains a Python script. Run t"
          ],
          [
           "The attached file lists the locomotives owned by a"
          ],
          [
           "On the BBC Earth YouTube video of the Top 5 Sillie"
          ],
          [
           "What was the complete title of the book in which t"
          ],
          [
           "Hi, I was out sick from my classes on Friday, so I"
          ],
          [
           "The brand that makes these harnesses the dogs are "
          ],
          [
           "How many images are there in the latest 2022 Lego "
          ],
          [
           "The cover of the August 2021 issue of Vogue shows "
          ],
          [
           "All of the individuals who formally held the posit"
          ],
          [
           "It's May 2023, and I'm about to drive across the U"
          ],
          [
           "On the DeepFruits fruit detection graph on Connect"
          ],
          [
           "What is the absolute difference in tens of thousan"
          ],
          [
           "Take the gender split from the 2011 Bulgarian cens"
          ],
          [
           "Which of the fruits shown in the 2008 painting \"Em"
          ],
          [
           "Eva Draconis has a personal website which can be a"
          ],
          [
           "A standard Rubik’s cube has been broken into cubes"
          ],
          [
           "A 5-man group made up of one tank, one healer, and"
          ],
          [
           "Where were the Vietnamese specimens described by K"
          ],
          [
           "According to Openreview.net, at the NeurIPS 2022 C"
          ],
          [
           "The attached Excel file contains the sales of menu"
          ],
          [
           "As of the 2020 census, what was the population dif"
          ],
          [
           "The work referenced in footnote 397 of Federico La"
          ],
          [
           "The Latin root of the Yola word \"gimlie\" shares a "
          ],
          [
           "If this whole pint is made up of ice cream, how ma"
          ],
          [
           "What is the latest chronological year date written"
          ],
          [
           "In the film Goldfinger, what color was the object "
          ],
          [
           "On June 6, 2023, an article by Carolyn Collins Pet"
          ],
          [
           "I'd like to learn more about some popular reality "
          ],
          [
           "On Cornell Law School website's legal information "
          ],
          [
           "Who are the pitchers with the number before and af"
          ],
          [
           "In the 2015 Metropolitan Museum of Art exhibition "
          ],
          [
           "As of May 2023, how many stops are between South S"
          ],
          [
           "What is the first name of the only Malko Competiti"
          ],
          [
           "In the YouTube 360 VR video from March 2018 narrat"
          ],
          [
           "At the two-minute mark in the YouTube video upload"
          ],
          [
           "How many times was a Twitter/X post cited as a ref"
          ],
          [
           "I thought we could try a fun word puzzle together "
          ],
          [
           "On a leap day before the year 2008, a joke was rem"
          ],
          [
           "During the first week of August 2015, one of the N"
          ],
          [
           "I read a paper about multiwavelength observations "
          ],
          [
           "What country had the least number of athletes at t"
          ],
          [
           "In NASA's Astronomy Picture of the Day on 2006 Jan"
          ],
          [
           "I'm curious about how much information is availabl"
          ],
          [
           "On ScienceDirect, what is the difference to 3 deci"
          ],
          [
           "What was the actual enrollment count of the clinic"
          ],
          [
           "When was a picture of St. Thomas Aquinas first add"
          ]
         ],
         "hovertemplate": "agent_name=07-apr-refacto_system_prompt<br>index=%{x}<br>is_correct=%{y}<br>question=%{customdata[0]}<extra></extra>",
         "legendgroup": "07-apr-refacto_system_prompt",
         "line": {
          "color": "#636efa",
          "dash": "solid"
         },
         "marker": {
          "symbol": "circle"
         },
         "mode": "lines",
         "name": "07-apr-refacto_system_prompt",
         "orientation": "v",
         "showlegend": true,
         "type": "scatter",
         "x": [
          0,
          1,
          2,
          3,
          4,
          5,
          6,
          7,
          8,
          9,
          10,
          11,
          12,
          13,
          14,
          15,
          16,
          17,
          18,
          19,
          20,
          21,
          22,
          23,
          24,
          25,
          26,
          27,
          28,
          29,
          30,
          31,
          32,
          33,
          34,
          35,
          36,
          37,
          38,
          39,
          40,
          41,
          42,
          43,
          44,
          45,
          46,
          47,
          48,
          49,
          50,
          51,
          52,
          53,
          54,
          55,
          56,
          57,
          58,
          59,
          60,
          61,
          62,
          63,
          64,
          65,
          66,
          67,
          68,
          69,
          70,
          71,
          72,
          73,
          74,
          75,
          76,
          77,
          78,
          79,
          80,
          81,
          82,
          83,
          84,
          85,
          86,
          87,
          88,
          89,
          90,
          91,
          92,
          93,
          94,
          95,
          96,
          97,
          98,
          99,
          100,
          101,
          102,
          103,
          104,
          105,
          106,
          107,
          108,
          109,
          110,
          111,
          112,
          113,
          114,
          115,
          116,
          117,
          118,
          119,
          120,
          121,
          122,
          123,
          124,
          125,
          126,
          127,
          128,
          129,
          130,
          131,
          132,
          133,
          134,
          135,
          136,
          137,
          138,
          139,
          140,
          141,
          142,
          143,
          144,
          145,
          146,
          147,
          148,
          149,
          150,
          151,
          152,
          153,
          154,
          155,
          156,
          157,
          158,
          159,
          160,
          161,
          162
         ],
         "xaxis": "x",
         "y": [
          0,
          0.5,
          0.3333333333333333,
          0.5,
          0.6,
          0.5,
          0.5714285714285714,
          0.5,
          0.5555555555555556,
          0.6,
          0.6363636363636364,
          0.6666666666666666,
          0.6153846153846154,
          0.6428571428571429,
          0.6,
          0.625,
          0.6470588235294118,
          0.6666666666666666,
          0.6842105263157895,
          0.7,
          0.6666666666666666,
          0.6363636363636364,
          0.6086956521739131,
          0.625,
          0.6,
          0.5769230769230769,
          0.5555555555555556,
          0.5357142857142857,
          0.5172413793103449,
          0.5,
          0.4838709677419355,
          0.46875,
          0.45454545454545453,
          0.47058823529411764,
          0.45714285714285713,
          0.4444444444444444,
          0.4594594594594595,
          0.47368421052631576,
          0.46153846153846156,
          0.475,
          0.4634146341463415,
          0.47619047619047616,
          0.46511627906976744,
          0.4772727272727273,
          0.4666666666666667,
          0.45652173913043476,
          0.44680851063829785,
          0.4583333333333333,
          0.4489795918367347,
          0.46,
          0.45098039215686275,
          0.4423076923076923,
          0.4339622641509434,
          0.42592592592592593,
          0.43636363636363634,
          0.44642857142857145,
          0.43859649122807015,
          0.43103448275862066,
          0.423728813559322,
          0.43333333333333335,
          0.4426229508196721,
          0.43548387096774194,
          0.42857142857142855,
          0.421875,
          0.4153846153846154,
          0.4090909090909091,
          0.40298507462686567,
          0.39705882352941174,
          0.391304347826087,
          0.4,
          0.4084507042253521,
          0.4027777777777778,
          0.410958904109589,
          0.40540540540540543,
          0.4,
          0.39473684210526316,
          0.38961038961038963,
          0.3974358974358974,
          0.3924050632911392,
          0.3875,
          0.3950617283950617,
          0.4024390243902439,
          0.39759036144578314,
          0.40476190476190477,
          0.4,
          0.4069767441860465,
          0.40229885057471265,
          0.3977272727272727,
          0.39325842696629215,
          0.3888888888888889,
          0.38461538461538464,
          0.391304347826087,
          0.3870967741935484,
          0.3829787234042553,
          0.3894736842105263,
          0.3854166666666667,
          0.38144329896907214,
          0.3877551020408163,
          0.3939393939393939,
          0.39,
          0.38613861386138615,
          0.39215686274509803,
          0.39805825242718446,
          0.40384615384615385,
          0.4,
          0.39622641509433965,
          0.40186915887850466,
          0.4074074074074074,
          0.4036697247706422,
          0.4,
          0.40540540540540543,
          0.4017857142857143,
          0.40707964601769914,
          0.40350877192982454,
          0.4,
          0.39655172413793105,
          0.39316239316239315,
          0.3983050847457627,
          0.40336134453781514,
          0.4,
          0.39669421487603307,
          0.4016393442622951,
          0.4065040650406504,
          0.4032258064516129,
          0.4,
          0.3968253968253968,
          0.4015748031496063,
          0.3984375,
          0.40310077519379844,
          0.4076923076923077,
          0.40458015267175573,
          0.4015151515151515,
          0.39849624060150374,
          0.39552238805970147,
          0.4,
          0.39705882352941174,
          0.39416058394160586,
          0.391304347826087,
          0.38848920863309355,
          0.38571428571428573,
          0.3829787234042553,
          0.38028169014084506,
          0.38461538461538464,
          0.3819444444444444,
          0.3793103448275862,
          0.3767123287671233,
          0.3741496598639456,
          0.3716216216216216,
          0.3691275167785235,
          0.37333333333333335,
          0.3708609271523179,
          0.3684210526315789,
          0.3660130718954248,
          0.36363636363636365,
          0.36129032258064514,
          0.36538461538461536,
          0.3630573248407643,
          0.3670886075949367,
          0.36477987421383645,
          0.3625,
          0.36024844720496896,
          0.35802469135802467,
          0.3558282208588957
         ],
         "yaxis": "y"
        },
        {
         "customdata": [
          [
           "In Unlambda, what exact charcter or text needs to "
          ],
          [
           "An office held a Secret Santa gift exchange where "
          ],
          [
           "Using the Biopython library in Python, parse the P"
          ],
          [
           "When you take the average of the standard populati"
          ],
          [
           ".rewsna eht sa \"tfel\" drow eht fo etisoppo eht eti"
          ],
          [
           "The attached spreadsheet shows the inventory for a"
          ],
          [
           "What's the last line of the rhyme under the flavor"
          ],
          [
           "I’m researching species that became invasive after"
          ],
          [
           "If Eliud Kipchoge could maintain his record-making"
          ],
          [
           "What was the volume in m^3 of the fish bag that wa"
          ],
          [
           "How many studio albums were published by Mercedes "
          ],
          [
           "If we assume all articles published by Nature in 2"
          ],
          [
           "In April of 1977, who was the Prime Minister of th"
          ],
          [
           "My family reunion is this week, and I was assigned"
          ],
          [
           "Which of the text elements under CATEGORIES in the"
          ],
          [
           "Each cell in the attached spreadsheet represents a"
          ],
          [
           "The object in the British Museum's collection with"
          ],
          [
           "In Series 9, Episode 11 of Doctor Who, the Doctor "
          ],
          [
           "In the video https://www.youtube.com/watch?v=L1vXC"
          ],
          [
           "Here's a fun riddle that I think you'll enjoy.\n\nYo"
          ],
          [
           "What is the maximum length in meters of #9 in the "
          ],
          [
           "What integer-rounded percentage of the total lengt"
          ],
          [
           "In the fictional language of Tizin, basic sentence"
          ],
          [
           "How many High Energy Physics - Lattice articles li"
          ],
          [
           "In the 2018 VSCode blog post on replit.com, what w"
          ],
          [
           "The photograph in the Whitney Museum of American A"
          ],
          [
           "How many applicants for the job in the PDF are onl"
          ],
          [
           "A paper about AI regulation that was originally su"
          ],
          [
           "¬(A ∧ B) ↔ (¬A ∨ ¬B)\n¬(A ∨ B) ↔ (¬A ∧ ¬B)\n(A → B) "
          ],
          [
           "In July 2, 1959 United States standards for grades"
          ],
          [
           "Review the chess position provided in the image. I"
          ],
          [
           "Of the authors (First M. Last) that worked on the "
          ],
          [
           "What two-word type of model did Manash Pratim Kash"
          ],
          [
           "The attached file contains a list of vendors in th"
          ],
          [
           "Compute the check digit the Tropicos ID for the Or"
          ],
          [
           "The following numbers function similarly to ISBN 1"
          ],
          [
           "I need to fact-check a citation. This is the citat"
          ],
          [
           "In Emily Midkiff's June 2014 article in a journal "
          ],
          [
           "Given this table defining * on the set S = {a, b, "
          ],
          [
           "Could you help me out with this assignment? Our pr"
          ],
          [
           "According to Google Finance, when was the first ye"
          ],
          [
           "What writer is quoted by Merriam-Webster for the W"
          ],
          [
           "In Nature journal's Scientific Reports conference "
          ],
          [
           "As a comma separated list with no whitespace, usin"
          ],
          [
           "Using bass clef notes, what is the age of someone "
          ],
          [
           "In terms of geographical distance between capital "
          ],
          [
           "What are the EC numbers of the two most commonly u"
          ],
          [
           "Assuming scientists in the famous youtube video Th"
          ],
          [
           "The attached file lists accommodations in the reso"
          ],
          [
           "Who nominated the only Featured Article on English"
          ],
          [
           "What is the minimum number of page links a person "
          ],
          [
           "You are a telecommunications engineer who wants to"
          ],
          [
           "If there is anything that doesn't make sense in th"
          ],
          [
           "According to Box Office Mojo's 2020 Worldwide Box "
          ],
          [
           "The attached file shows a list of books in the col"
          ],
          [
           "In the year 2022, and before December, what does \""
          ],
          [
           "You are Van Helsing, a renowned vampire hunter. A "
          ],
          [
           "Given $x_0 = -5$ and $f(x) = x^3 + 4x^2 - 3x + 8$,"
          ],
          [
           "In Valentina Re’s contribution to the 2017 book “W"
          ],
          [
           "The Metropolitan Museum of Art has a portrait in i"
          ],
          [
           "In the NCATS PubChem compound database for Food Ad"
          ],
          [
           "This is a secret message my friend gave me. It say"
          ],
          [
           "On a leap day before the year 2008, a joke was rem"
          ],
          [
           "What animals that were mentioned in both Ilias Lag"
          ],
          [
           "What is the area of the green polygon in the attac"
          ],
          [
           "How many pages if the 2023 IPCC report (85 pages v"
          ],
          [
           "Examine the video at https://www.youtube.com/watch"
          ],
          [
           "The attached file shows the locomotives in the col"
          ],
          [
           "Find the value of x to the nearest tenth: Lx = (d/"
          ],
          [
           "How many slides in this PowerPoint presentation me"
          ],
          [
           "What is the average number of pre-2020 works on th"
          ],
          [
           "I'm making a grocery list for my mom, but she's a "
          ],
          [
           "The attached spreadsheet contains the sales of men"
          ],
          [
           "I went to Virtue restaurant & bar in Chicago for m"
          ],
          [
           "In the NIH translation of the original 1913 Michae"
          ],
          [
           "According to wikipedia, how many Asian countries s"
          ],
          [
           "Which contributor to the version of OpenCV where s"
          ],
          [
           "Under DDC 633 on Bielefeld University Library's BA"
          ],
          [
           "What percentage of the total penguin population ac"
          ],
          [
           "Look at the attached image. The quiz is scored as "
          ],
          [
           "I have the Standard plan in the image below, and I"
          ],
          [
           "The attached image contains a Python script. Run t"
          ],
          [
           "It's May 2023, and I'm about to drive across the U"
          ],
          [
           "How many edits were made to the Wikipedia page on "
          ],
          [
           "Hi, I'm making a pie but I could use some help wit"
          ],
          [
           "What is the volume in milliliters of a system comp"
          ],
          [
           "The attached PDF lists accommodations in the resor"
          ],
          [
           "This spreadsheet contains a list of clients for a "
          ],
          [
           "You are given this Excel file as a map. You start "
          ],
          [
           "What is the final numeric output from the attached"
          ],
          [
           "Who composed the song that was performed by a roos"
          ],
          [
           "What is the last word before the second chorus of "
          ],
          [
           "Who did the actor who played Ray in the Polish-lan"
          ],
          [
           "Use density measures from the chemistry materials "
          ],
          [
           "In the Scikit-Learn July 2017 changelog, what othe"
          ],
          [
           "The year is 2022. I am at the National Air and Spa"
          ],
          [
           "Pull out the sentence in the following 5x7 block o"
          ],
          [
           "The YouTube channel Game Grumps began a Let’s Play"
          ],
          [
           "Bob was invited to participate in a game show, and"
          ],
          [
           "I was referencing each of the tables in the file f"
          ]
         ],
         "hovertemplate": "agent_name=07-apr-refacto_system_prompt_noplanning<br>index=%{x}<br>is_correct=%{y}<br>question=%{customdata[0]}<extra></extra>",
         "legendgroup": "07-apr-refacto_system_prompt_noplanning",
         "line": {
          "color": "#EF553B",
          "dash": "solid"
         },
         "marker": {
          "symbol": "circle"
         },
         "mode": "lines",
         "name": "07-apr-refacto_system_prompt_noplanning",
         "orientation": "v",
         "showlegend": true,
         "type": "scatter",
         "x": [
          0,
          1,
          2,
          3,
          4,
          5,
          6,
          7,
          8,
          9,
          10,
          11,
          12,
          13,
          14,
          15,
          16,
          17,
          18,
          19,
          20,
          21,
          22,
          23,
          24,
          25,
          26,
          27,
          28,
          29,
          30,
          31,
          32,
          33,
          34,
          35,
          36,
          37,
          38,
          39,
          40,
          41,
          42,
          43,
          44,
          45,
          46,
          47,
          48,
          49,
          50,
          51,
          52,
          53,
          54,
          55,
          56,
          57,
          58,
          59,
          60,
          61,
          62,
          63,
          64,
          65,
          66,
          67,
          68,
          69,
          70,
          71,
          72,
          73,
          74,
          75,
          76,
          77,
          78,
          79,
          80,
          81,
          82,
          83,
          84,
          85,
          86,
          87,
          88,
          89,
          90,
          91,
          92,
          93,
          94,
          95,
          96,
          97,
          98,
          99
         ],
         "xaxis": "x",
         "y": [
          0,
          0,
          0,
          0,
          0.2,
          0.3333333333333333,
          0.2857142857142857,
          0.375,
          0.4444444444444444,
          0.5,
          0.5454545454545454,
          0.5,
          0.46153846153846156,
          0.5,
          0.4666666666666667,
          0.4375,
          0.47058823529411764,
          0.4444444444444444,
          0.42105263157894735,
          0.4,
          0.38095238095238093,
          0.4090909090909091,
          0.391304347826087,
          0.375,
          0.36,
          0.34615384615384615,
          0.37037037037037035,
          0.35714285714285715,
          0.3793103448275862,
          0.36666666666666664,
          0.3548387096774194,
          0.34375,
          0.36363636363636365,
          0.38235294117647056,
          0.37142857142857144,
          0.3888888888888889,
          0.3783783783783784,
          0.39473684210526316,
          0.41025641025641024,
          0.4,
          0.3902439024390244,
          0.40476190476190477,
          0.3953488372093023,
          0.38636363636363635,
          0.37777777777777777,
          0.391304347826087,
          0.3829787234042553,
          0.375,
          0.3673469387755102,
          0.38,
          0.37254901960784315,
          0.36538461538461536,
          0.37735849056603776,
          0.37037037037037035,
          0.36363636363636365,
          0.375,
          0.3684210526315789,
          0.3620689655172414,
          0.3728813559322034,
          0.36666666666666664,
          0.36065573770491804,
          0.3548387096774194,
          0.3492063492063492,
          0.34375,
          0.3384615384615385,
          0.3484848484848485,
          0.3582089552238806,
          0.36764705882352944,
          0.37681159420289856,
          0.38571428571428573,
          0.38028169014084506,
          0.375,
          0.3835616438356164,
          0.3783783783783784,
          0.37333333333333335,
          0.3815789473684211,
          0.37662337662337664,
          0.3717948717948718,
          0.3670886075949367,
          0.3625,
          0.35802469135802467,
          0.35365853658536583,
          0.3493975903614458,
          0.34523809523809523,
          0.35294117647058826,
          0.3488372093023256,
          0.3563218390804598,
          0.3522727272727273,
          0.34831460674157305,
          0.35555555555555557,
          0.3516483516483517,
          0.358695652173913,
          0.3655913978494624,
          0.3723404255319149,
          0.3684210526315789,
          0.3645833333333333,
          0.3711340206185567,
          0.3673469387755102,
          0.36363636363636365,
          0.36
         ],
         "yaxis": "y"
        },
        {
         "customdata": [
          [
           "Using the Biopython library in Python, parse the P"
          ],
          [
           "The attached spreadsheet shows the inventory for a"
          ],
          [
           "What was the volume in m^3 of the fish bag that wa"
          ],
          [
           "When you take the average of the standard populati"
          ],
          [
           "If we assume all articles published by Nature in 2"
          ],
          [
           "If Eliud Kipchoge could maintain his record-making"
          ],
          [
           "An office held a Secret Santa gift exchange where "
          ],
          [
           "In Series 9, Episode 11 of Doctor Who, the Doctor "
          ],
          [
           "¬(A ∧ B) ↔ (¬A ∨ ¬B)\n¬(A ∨ B) ↔ (¬A ∧ ¬B)\n(A → B) "
          ],
          [
           "My family reunion is this week, and I was assigned"
          ],
          [
           "Each cell in the attached spreadsheet represents a"
          ],
          [
           "How many studio albums were published by Mercedes "
          ],
          [
           "Here's a fun riddle that I think you'll enjoy.\n\nYo"
          ],
          [
           "Which of the text elements under CATEGORIES in the"
          ]
         ],
         "hovertemplate": "agent_name=07-apr-refacto_system_prompt_noplanning_qwen<br>index=%{x}<br>is_correct=%{y}<br>question=%{customdata[0]}<extra></extra>",
         "legendgroup": "07-apr-refacto_system_prompt_noplanning_qwen",
         "line": {
          "color": "#00cc96",
          "dash": "solid"
         },
         "marker": {
          "symbol": "circle"
         },
         "mode": "lines",
         "name": "07-apr-refacto_system_prompt_noplanning_qwen",
         "orientation": "v",
         "showlegend": true,
         "type": "scatter",
         "x": [
          0,
          1,
          2,
          3,
          4,
          5,
          6,
          7,
          8,
          9,
          10,
          11,
          12,
          13
         ],
         "xaxis": "x",
         "y": [
          0,
          0.5,
          0.6666666666666666,
          0.5,
          0.4,
          0.3333333333333333,
          0.2857142857142857,
          0.25,
          0.2222222222222222,
          0.3,
          0.2727272727272727,
          0.3333333333333333,
          0.3076923076923077,
          0.2857142857142857
         ],
         "yaxis": "y"
        },
        {
         "customdata": [
          [
           "The attached spreadsheet shows the inventory for a"
          ],
          [
           "What was the volume in m^3 of the fish bag that wa"
          ],
          [
           "An office held a Secret Santa gift exchange where "
          ],
          [
           "Using the Biopython library in Python, parse the P"
          ],
          [
           "When you take the average of the standard populati"
          ],
          [
           ".rewsna eht sa \"tfel\" drow eht fo etisoppo eht eti"
          ],
          [
           "I need to fact-check a citation. This is the citat"
          ],
          [
           "How many studio albums were published by Mercedes "
          ],
          [
           "What's the last line of the rhyme under the flavor"
          ],
          [
           "The object in the British Museum's collection with"
          ],
          [
           "In Series 9, Episode 11 of Doctor Who, the Doctor "
          ],
          [
           "Here's a fun riddle that I think you'll enjoy.\n\nYo"
          ],
          [
           "In Unlambda, what exact charcter or text needs to "
          ],
          [
           "In the video https://www.youtube.com/watch?v=L1vXC"
          ],
          [
           "My family reunion is this week, and I was assigned"
          ],
          [
           "I’m researching species that became invasive after"
          ],
          [
           "In April of 1977, who was the Prime Minister of th"
          ],
          [
           "Assuming scientists in the famous youtube video Th"
          ],
          [
           "Of the authors (First M. Last) that worked on the "
          ],
          [
           "Which of the text elements under CATEGORIES in the"
          ],
          [
           "If Eliud Kipchoge could maintain his record-making"
          ],
          [
           "The photograph in the Whitney Museum of American A"
          ],
          [
           "In the fictional language of Tizin, basic sentence"
          ],
          [
           "How many High Energy Physics - Lattice articles li"
          ],
          [
           "How many applicants for the job in the PDF are onl"
          ],
          [
           "If we assume all articles published by Nature in 2"
          ],
          [
           "Compute the check digit the Tropicos ID for the Or"
          ],
          [
           "What integer-rounded percentage of the total lengt"
          ],
          [
           "Each cell in the attached spreadsheet represents a"
          ],
          [
           "¬(A ∧ B) ↔ (¬A ∨ ¬B)\n¬(A ∨ B) ↔ (¬A ∧ ¬B)\n(A → B) "
          ],
          [
           "The attached file contains a list of vendors in th"
          ],
          [
           "What animals that were mentioned in both Ilias Lag"
          ],
          [
           "In July 2, 1959 United States standards for grades"
          ],
          [
           "In the 2018 VSCode blog post on replit.com, what w"
          ],
          [
           "Could you help me out with this assignment? Our pr"
          ],
          [
           "A paper about AI regulation that was originally su"
          ],
          [
           "Given this table defining * on the set S = {a, b, "
          ],
          [
           "In Emily Midkiff's June 2014 article in a journal "
          ],
          [
           "What writer is quoted by Merriam-Webster for the W"
          ],
          [
           "I went to Virtue restaurant & bar in Chicago for m"
          ],
          [
           "Which contributor to the version of OpenCV where s"
          ],
          [
           "The following numbers function similarly to ISBN 1"
          ],
          [
           "What two-word type of model did Manash Pratim Kash"
          ],
          [
           "The attached file shows a list of books in the col"
          ],
          [
           "The Metropolitan Museum of Art has a portrait in i"
          ],
          [
           "As a comma separated list with no whitespace, usin"
          ],
          [
           "In terms of geographical distance between capital "
          ],
          [
           "According to Box Office Mojo's 2020 Worldwide Box "
          ],
          [
           "It is 1999. Before you party like it is 1999, plea"
          ],
          [
           "Who nominated the only Featured Article on English"
          ],
          [
           "What is the minimum number of page links a person "
          ],
          [
           "Review the chess position provided in the image. I"
          ],
          [
           "Using bass clef notes, what is the age of someone "
          ],
          [
           "What is the average number of pre-2020 works on th"
          ],
          [
           "I was trying to remember how well the Cheater Beat"
          ],
          [
           "You are a telecommunications engineer who wants to"
          ],
          [
           "The attached file lists accommodations in the reso"
          ],
          [
           "How many slides in this PowerPoint presentation me"
          ],
          [
           "In Valentina Re’s contribution to the 2017 book “W"
          ],
          [
           "According to Google Finance, when was the first ye"
          ],
          [
           "Use density measures from the chemistry materials "
          ],
          [
           "This is a secret message my friend gave me. It say"
          ],
          [
           "What are the EC numbers of the two most commonly u"
          ],
          [
           "Given $x_0 = -5$ and $f(x) = x^3 + 4x^2 - 3x + 8$,"
          ],
          [
           "If there is anything that doesn't make sense in th"
          ],
          [
           "Examine the video at https://www.youtube.com/watch"
          ],
          [
           "In the NCATS PubChem compound database for Food Ad"
          ],
          [
           "You are Van Helsing, a renowned vampire hunter. A "
          ],
          [
           "The attached spreadsheet contains the sales of men"
          ],
          [
           "What is the area of the green polygon in the attac"
          ],
          [
           "In Nature journal's Scientific Reports conference "
          ],
          [
           "Find the value of x to the nearest tenth: Lx = (d/"
          ],
          [
           "The attached file shows the locomotives in the col"
          ],
          [
           "In the NIH translation of the original 1913 Michae"
          ],
          [
           "How many images are there in the latest 2022 Lego "
          ],
          [
           "I was referencing each of the tables in the file f"
          ],
          [
           "You are given this Excel file as a map. You start "
          ],
          [
           "Look at the attached image. The quiz is scored as "
          ],
          [
           "Under DDC 633 on Bielefeld University Library's BA"
          ],
          [
           "On July 15, 2008, Phys.org published an article ab"
          ],
          [
           "In the endnote found in the second-to-last paragra"
          ],
          [
           "What is the maximum length in meters of #9 in the "
          ],
          [
           "Who composed the song that was performed by a roos"
          ],
          [
           "What percentage of the total penguin population ac"
          ],
          [
           "How many edits were made to the Wikipedia page on "
          ],
          [
           "According to the World Bank, which countries had g"
          ],
          [
           "I have the Standard plan in the image below, and I"
          ],
          [
           "I’m thinking about selling my home, so I want to l"
          ],
          [
           "This spreadsheet contains a list of clients for a "
          ],
          [
           "According to wikipedia, how many Asian countries s"
          ],
          [
           "What is the final numeric output from the attached"
          ],
          [
           "Hi, I'm making a pie but I could use some help wit"
          ],
          [
           "What is the last word before the second chorus of "
          ],
          [
           "Pull out the sentence in the following 5x7 block o"
          ],
          [
           "The book with the doi 10.1353/book.24372 concerns "
          ],
          [
           "Who did the actor who played Ray in the Polish-lan"
          ],
          [
           "I'm making a grocery list for my mom, but she's a "
          ],
          [
           "On the BBC Earth YouTube video of the Top 5 Sillie"
          ],
          [
           "How many nonindigenous crocodiles were found in Fl"
          ],
          [
           "The attached PDF lists accommodations in the resor"
          ],
          [
           "Bob was invited to participate in a game show, and"
          ],
          [
           "It's May 2023, and I'm about to drive across the U"
          ],
          [
           "The year is 2022. I am at the National Air and Spa"
          ],
          [
           "The attached spreadsheet contains a list of books "
          ],
          [
           "According to github, when was Regression added to "
          ],
          [
           "What time was the Tri-Rail train that carried the "
          ],
          [
           "On the DeepFruits fruit detection graph on Connect"
          ],
          [
           "The YouTube channel Game Grumps began a Let’s Play"
          ],
          [
           "What is the volume in milliliters of a system comp"
          ],
          [
           "What is the surname of the equine veterinarian men"
          ],
          [
           "According to the USGS, in what year was the Americ"
          ],
          [
           "In the Scikit-Learn July 2017 changelog, what othe"
          ],
          [
           "Consider the following symbols: 𒐜  𒐐𒐚\n\nThis is a n"
          ],
          [
           "In the year 2022, and before December, what does \""
          ],
          [
           "Of the cities within the United States where U.S. "
          ],
          [
           "How many more blocks (also denoted as layers) in B"
          ],
          [
           "The attached image contains a Python script. Run t"
          ],
          [
           "According to Girls Who Code, how long did it take "
          ],
          [
           "The attached file lists the locomotives owned by a"
          ],
          [
           "Which of the fruits shown in the 2008 painting \"Em"
          ],
          [
           "As of the 2020 census, what was the population dif"
          ],
          [
           "In Audre Lorde’s poem “Father Son and Holy Ghost”,"
          ],
          [
           "A 5-man group made up of one tank, one healer, and"
          ],
          [
           "The Latin root of the Yola word \"gimlie\" shares a "
          ],
          [
           "During the first week of August 2015, one of the N"
          ],
          [
           "Hi, I was out sick from my classes on Friday, so I"
          ],
          [
           "The attached spreadsheet lists the locomotives own"
          ],
          [
           "On ScienceDirect, what is the difference to 3 deci"
          ],
          [
           "Take the gender split from the 2011 Bulgarian cens"
          ],
          [
           "A standard Rubik’s cube has been broken into cubes"
          ],
          [
           "What is the absolute difference in tens of thousan"
          ],
          [
           "The attached Excel file contains the sales of menu"
          ],
          [
           "What country had the least number of athletes at t"
          ],
          [
           "How many pages if the 2023 IPCC report (85 pages v"
          ],
          [
           "What is the latest chronological year date written"
          ],
          [
           "Where were the Vietnamese specimens described by K"
          ],
          [
           "I'm curious about how much information is availabl"
          ],
          [
           "Who are the pitchers with the number before and af"
          ],
          [
           "If this whole pint is made up of ice cream, how ma"
          ],
          [
           "I'd like to learn more about some popular reality "
          ],
          [
           "As of May 2023, how many stops are between South S"
          ],
          [
           "In the 2015 Metropolitan Museum of Art exhibition "
          ],
          [
           "How many at bats did the Yankee with the most walk"
          ],
          [
           "Eva Draconis has a personal website which can be a"
          ],
          [
           "On Cornell Law School website's legal information "
          ],
          [
           "In the YouTube 360 VR video from March 2018 narrat"
          ],
          [
           "The cover of the August 2021 issue of Vogue shows "
          ],
          [
           "The longest-lived vertebrate is named after an isl"
          ],
          [
           "In the film Goldfinger, what color was the object "
          ],
          [
           "What is the first name of the only Malko Competiti"
          ],
          [
           "What was the actual enrollment count of the clinic"
          ],
          [
           "According to Openreview.net, at the NeurIPS 2022 C"
          ],
          [
           "At the two-minute mark in the YouTube video upload"
          ],
          [
           "What was the complete title of the book in which t"
          ],
          [
           "On June 6, 2023, an article by Carolyn Collins Pet"
          ],
          [
           "I thought we could try a fun word puzzle together "
          ],
          [
           "On a leap day before the year 2008, a joke was rem"
          ],
          [
           "When was a picture of St. Thomas Aquinas first add"
          ],
          [
           "As of August 2023, who is the only winner of the U"
          ],
          [
           "The brand that makes these harnesses the dogs are "
          ],
          [
           "I read a paper about multiwavelength observations "
          ],
          [
           "How many times was a Twitter/X post cited as a ref"
          ],
          [
           "All of the individuals who formally held the posit"
          ],
          [
           "The work referenced in footnote 397 of Federico La"
          ]
         ],
         "hovertemplate": "agent_name=generate-traces-03-apr<br>index=%{x}<br>is_correct=%{y}<br>question=%{customdata[0]}<extra></extra>",
         "legendgroup": "generate-traces-03-apr",
         "line": {
          "color": "#ab63fa",
          "dash": "solid"
         },
         "marker": {
          "symbol": "circle"
         },
         "mode": "lines",
         "name": "generate-traces-03-apr",
         "orientation": "v",
         "showlegend": true,
         "type": "scatter",
         "x": [
          0,
          1,
          2,
          3,
          4,
          5,
          6,
          7,
          8,
          9,
          10,
          11,
          12,
          13,
          14,
          15,
          16,
          17,
          18,
          19,
          20,
          21,
          22,
          23,
          24,
          25,
          26,
          27,
          28,
          29,
          30,
          31,
          32,
          33,
          34,
          35,
          36,
          37,
          38,
          39,
          40,
          41,
          42,
          43,
          44,
          45,
          46,
          47,
          48,
          49,
          50,
          51,
          52,
          53,
          54,
          55,
          56,
          57,
          58,
          59,
          60,
          61,
          62,
          63,
          64,
          65,
          66,
          67,
          68,
          69,
          70,
          71,
          72,
          73,
          74,
          75,
          76,
          77,
          78,
          79,
          80,
          81,
          82,
          83,
          84,
          85,
          86,
          87,
          88,
          89,
          90,
          91,
          92,
          93,
          94,
          95,
          96,
          97,
          98,
          99,
          100,
          101,
          102,
          103,
          104,
          105,
          106,
          107,
          108,
          109,
          110,
          111,
          112,
          113,
          114,
          115,
          116,
          117,
          118,
          119,
          120,
          121,
          122,
          123,
          124,
          125,
          126,
          127,
          128,
          129,
          130,
          131,
          132,
          133,
          134,
          135,
          136,
          137,
          138,
          139,
          140,
          141,
          142,
          143,
          144,
          145,
          146,
          147,
          148,
          149,
          150,
          151,
          152,
          153,
          154,
          155,
          156,
          157,
          158,
          159,
          160,
          161,
          162,
          163
         ],
         "xaxis": "x",
         "y": [
          1,
          1,
          0.6666666666666666,
          0.5,
          0.4,
          0.5,
          0.42857142857142855,
          0.375,
          0.3333333333333333,
          0.4,
          0.36363636363636365,
          0.4166666666666667,
          0.38461538461538464,
          0.35714285714285715,
          0.4,
          0.4375,
          0.47058823529411764,
          0.4444444444444444,
          0.42105263157894735,
          0.4,
          0.38095238095238093,
          0.36363636363636365,
          0.34782608695652173,
          0.3333333333333333,
          0.32,
          0.3076923076923077,
          0.2962962962962963,
          0.2857142857142857,
          0.27586206896551724,
          0.26666666666666666,
          0.2903225806451613,
          0.28125,
          0.2727272727272727,
          0.2647058823529412,
          0.2857142857142857,
          0.3055555555555556,
          0.32432432432432434,
          0.34210526315789475,
          0.358974358974359,
          0.35,
          0.34146341463414637,
          0.35714285714285715,
          0.37209302325581395,
          0.38636363636363635,
          0.4,
          0.391304347826087,
          0.40425531914893614,
          0.3958333333333333,
          0.40816326530612246,
          0.42,
          0.43137254901960786,
          0.4230769230769231,
          0.41509433962264153,
          0.4074074074074074,
          0.4,
          0.39285714285714285,
          0.38596491228070173,
          0.39655172413793105,
          0.3898305084745763,
          0.38333333333333336,
          0.39344262295081966,
          0.3870967741935484,
          0.38095238095238093,
          0.390625,
          0.38461538461538464,
          0.3939393939393939,
          0.3880597014925373,
          0.38235294117647056,
          0.391304347826087,
          0.38571428571428573,
          0.38028169014084506,
          0.375,
          0.3835616438356164,
          0.3783783783783784,
          0.37333333333333335,
          0.3684210526315789,
          0.36363636363636365,
          0.358974358974359,
          0.35443037974683544,
          0.3625,
          0.35802469135802467,
          0.35365853658536583,
          0.3614457831325301,
          0.35714285714285715,
          0.36470588235294116,
          0.36046511627906974,
          0.367816091954023,
          0.375,
          0.3707865168539326,
          0.37777777777777777,
          0.38461538461538464,
          0.391304347826087,
          0.3870967741935484,
          0.39361702127659576,
          0.4,
          0.40625,
          0.41237113402061853,
          0.41836734693877553,
          0.41414141414141414,
          0.41,
          0.40594059405940597,
          0.4019607843137255,
          0.39805825242718446,
          0.40384615384615385,
          0.4,
          0.39622641509433965,
          0.3925233644859813,
          0.3888888888888889,
          0.3853211009174312,
          0.38181818181818183,
          0.38738738738738737,
          0.38392857142857145,
          0.3893805309734513,
          0.38596491228070173,
          0.3826086956521739,
          0.3879310344827586,
          0.39316239316239315,
          0.3898305084745763,
          0.3949579831932773,
          0.39166666666666666,
          0.3884297520661157,
          0.38524590163934425,
          0.3821138211382114,
          0.3790322580645161,
          0.384,
          0.3888888888888889,
          0.3937007874015748,
          0.390625,
          0.3953488372093023,
          0.3923076923076923,
          0.3969465648854962,
          0.4015151515151515,
          0.40601503759398494,
          0.40298507462686567,
          0.4,
          0.40441176470588236,
          0.40145985401459855,
          0.39855072463768115,
          0.39568345323741005,
          0.4,
          0.3971631205673759,
          0.39436619718309857,
          0.3986013986013986,
          0.3958333333333333,
          0.3931034482758621,
          0.3904109589041096,
          0.3945578231292517,
          0.3918918918918919,
          0.3959731543624161,
          0.3933333333333333,
          0.39072847682119205,
          0.3881578947368421,
          0.38562091503267976,
          0.38311688311688313,
          0.38064516129032255,
          0.3782051282051282,
          0.37579617834394907,
          0.37341772151898733,
          0.3710691823899371,
          0.36875,
          0.36645962732919257,
          0.36419753086419754,
          0.3619631901840491,
          0.3597560975609756
         ],
         "yaxis": "y"
        },
        {
         "customdata": [
          [
           "In April of 1977, who was the Prime Minister of th"
          ],
          [
           "Using the Biopython library in Python, parse the P"
          ],
          [
           "When you take the average of the standard populati"
          ],
          [
           "If Eliud Kipchoge could maintain his record-making"
          ],
          [
           "An office held a Secret Santa gift exchange where "
          ],
          [
           "In Unlambda, what exact charcter or text needs to "
          ],
          [
           ".rewsna eht sa \"tfel\" drow eht fo etisoppo eht eti"
          ],
          [
           "Here's a fun riddle that I think you'll enjoy.\n\nYo"
          ],
          [
           "In terms of geographical distance between capital "
          ],
          [
           "The attached spreadsheet shows the inventory for a"
          ],
          [
           "What is the average number of pre-2020 works on th"
          ],
          [
           "¬(A ∧ B) ↔ (¬A ∨ ¬B)\n¬(A ∨ B) ↔ (¬A ∧ ¬B)\n(A → B) "
          ],
          [
           "My family reunion is this week, and I was assigned"
          ],
          [
           "In Series 9, Episode 11 of Doctor Who, the Doctor "
          ],
          [
           "What was the volume in m^3 of the fish bag that wa"
          ],
          [
           "Use density measures from the chemistry materials "
          ],
          [
           "What's the last line of the rhyme under the flavor"
          ],
          [
           "According to github, when was Regression added to "
          ],
          [
           "Assuming scientists in the famous youtube video Th"
          ],
          [
           "I need to fact-check a citation. This is the citat"
          ],
          [
           "The photograph in the Whitney Museum of American A"
          ],
          [
           "In the fictional language of Tizin, basic sentence"
          ],
          [
           "I’m researching species that became invasive after"
          ],
          [
           "How many applicants for the job in the PDF are onl"
          ],
          [
           "If we assume all articles published by Nature in 2"
          ],
          [
           "Which contributor to the version of OpenCV where s"
          ],
          [
           "What are the EC numbers of the two most commonly u"
          ],
          [
           "How many High Energy Physics - Lattice articles li"
          ],
          [
           "Which of the text elements under CATEGORIES in the"
          ],
          [
           "In the 2018 VSCode blog post on replit.com, what w"
          ],
          [
           "Each cell in the attached spreadsheet represents a"
          ],
          [
           "How many studio albums were published by Mercedes "
          ],
          [
           "Compute the check digit the Tropicos ID for the Or"
          ],
          [
           "The attached file contains a list of vendors in th"
          ],
          [
           "Review the chess position provided in the image. I"
          ],
          [
           "Given this table defining * on the set S = {a, b, "
          ],
          [
           "The object in the British Museum's collection with"
          ],
          [
           "The following numbers function similarly to ISBN 1"
          ],
          [
           "Of the authors (First M. Last) that worked on the "
          ],
          [
           "The attached file shows a list of books in the col"
          ],
          [
           "I went to Virtue restaurant & bar in Chicago for m"
          ],
          [
           "What writer is quoted by Merriam-Webster for the W"
          ],
          [
           "As a comma separated list with no whitespace, usin"
          ],
          [
           "In Emily Midkiff's June 2014 article in a journal "
          ],
          [
           "Who nominated the only Featured Article on English"
          ],
          [
           "A paper about AI regulation that was originally su"
          ],
          [
           "According to Google Finance, when was the first ye"
          ],
          [
           "In the video https://www.youtube.com/watch?v=L1vXC"
          ],
          [
           "The Metropolitan Museum of Art has a portrait in i"
          ],
          [
           "In Nature journal's Scientific Reports conference "
          ],
          [
           "Using bass clef notes, what is the age of someone "
          ],
          [
           "In the NCATS PubChem compound database for Food Ad"
          ],
          [
           "What integer-rounded percentage of the total lengt"
          ],
          [
           "What is the maximum length in meters of #9 in the "
          ],
          [
           "Could you help me out with this assignment? Our pr"
          ],
          [
           "The attached file lists accommodations in the reso"
          ],
          [
           "What animals that were mentioned in both Ilias Lag"
          ],
          [
           "In the NIH translation of the original 1913 Michae"
          ],
          [
           "You are a telecommunications engineer who wants to"
          ],
          [
           "If there is anything that doesn't make sense in th"
          ],
          [
           "What two-word type of model did Manash Pratim Kash"
          ],
          [
           "How many slides in this PowerPoint presentation me"
          ],
          [
           "According to Box Office Mojo's 2020 Worldwide Box "
          ],
          [
           "You are Van Helsing, a renowned vampire hunter. A "
          ],
          [
           "Given $x_0 = -5$ and $f(x) = x^3 + 4x^2 - 3x + 8$,"
          ],
          [
           "This is a secret message my friend gave me. It say"
          ],
          [
           "How many images are there in the latest 2022 Lego "
          ],
          [
           "In the year 2022, and before December, what does \""
          ],
          [
           "The attached spreadsheet contains the sales of men"
          ],
          [
           "Find the value of x to the nearest tenth: Lx = (d/"
          ],
          [
           "According to wikipedia, how many Asian countries s"
          ],
          [
           "What is the area of the green polygon in the attac"
          ],
          [
           "Examine the video at https://www.youtube.com/watch"
          ],
          [
           "In Valentina Re’s contribution to the 2017 book “W"
          ],
          [
           "I'm making a grocery list for my mom, but she's a "
          ],
          [
           "On July 15, 2008, Phys.org published an article ab"
          ],
          [
           "The attached file shows the locomotives in the col"
          ],
          [
           "What time was the Tri-Rail train that carried the "
          ],
          [
           "What percentage of the total penguin population ac"
          ],
          [
           "In July 2, 1959 United States standards for grades"
          ],
          [
           "Look at the attached image. The quiz is scored as "
          ],
          [
           "According to the World Bank, which countries had g"
          ],
          [
           "How many edits were made to the Wikipedia page on "
          ],
          [
           "It is 1999. Before you party like it is 1999, plea"
          ],
          [
           "Who composed the song that was performed by a roos"
          ],
          [
           "You are given this Excel file as a map. You start "
          ],
          [
           "I have the Standard plan in the image below, and I"
          ],
          [
           "This spreadsheet contains a list of clients for a "
          ],
          [
           "How many nonindigenous crocodiles were found in Fl"
          ],
          [
           "Hi, I'm making a pie but I could use some help wit"
          ],
          [
           "In the Scikit-Learn July 2017 changelog, what othe"
          ],
          [
           "What is the final numeric output from the attached"
          ],
          [
           "What is the surname of the equine veterinarian men"
          ],
          [
           "I’m thinking about selling my home, so I want to l"
          ],
          [
           "What is the last word before the second chorus of "
          ],
          [
           "How many more blocks (also denoted as layers) in B"
          ],
          [
           "What is the minimum number of page links a person "
          ],
          [
           "On the BBC Earth YouTube video of the Top 5 Sillie"
          ],
          [
           "Pull out the sentence in the following 5x7 block o"
          ],
          [
           "The attached PDF lists accommodations in the resor"
          ],
          [
           "Who did the actor who played Ray in the Polish-lan"
          ],
          [
           "In the endnote found in the second-to-last paragra"
          ],
          [
           "Bob was invited to participate in a game show, and"
          ],
          [
           "The book with the doi 10.1353/book.24372 concerns "
          ],
          [
           "The attached spreadsheet contains a list of books "
          ],
          [
           "All of the individuals who formally held the posit"
          ],
          [
           "What is the volume in milliliters of a system comp"
          ],
          [
           "According to the USGS, in what year was the Americ"
          ],
          [
           "During the first week of August 2015, one of the N"
          ],
          [
           "The longest-lived vertebrate is named after an isl"
          ],
          [
           "I was referencing each of the tables in the file f"
          ],
          [
           "How many times was a Twitter/X post cited as a ref"
          ],
          [
           "I was trying to remember how well the Cheater Beat"
          ],
          [
           "The Latin root of the Yola word \"gimlie\" shares a "
          ],
          [
           "The attached spreadsheet lists the locomotives own"
          ],
          [
           "Consider the following symbols: 𒐜  𒐐𒐚\n\nThis is a n"
          ],
          [
           "The attached file lists the locomotives owned by a"
          ],
          [
           "A 5-man group made up of one tank, one healer, and"
          ],
          [
           "As of the 2020 census, what was the population dif"
          ],
          [
           "In Audre Lorde’s poem “Father Son and Holy Ghost”,"
          ],
          [
           "On Cornell Law School website's legal information "
          ],
          [
           "On the DeepFruits fruit detection graph on Connect"
          ],
          [
           "Which of the fruits shown in the 2008 painting \"Em"
          ],
          [
           "The attached image contains a Python script. Run t"
          ],
          [
           "A standard Rubik’s cube has been broken into cubes"
          ],
          [
           "According to Girls Who Code, how long did it take "
          ],
          [
           "What is the latest chronological year date written"
          ],
          [
           "The cover of the August 2021 issue of Vogue shows "
          ],
          [
           "I thought we could try a fun word puzzle together "
          ],
          [
           "The attached Excel file contains the sales of menu"
          ],
          [
           "What was the complete title of the book in which t"
          ],
          [
           "Take the gender split from the 2011 Bulgarian cens"
          ],
          [
           "What is the absolute difference in tens of thousan"
          ],
          [
           "Where were the Vietnamese specimens described by K"
          ],
          [
           "Who are the pitchers with the number before and af"
          ],
          [
           "The work referenced in footnote 397 of Federico La"
          ],
          [
           "The YouTube channel Game Grumps began a Let’s Play"
          ],
          [
           "Of the cities within the United States where U.S. "
          ],
          [
           "What is the first name of the only Malko Competiti"
          ],
          [
           "Under DDC 633 on Bielefeld University Library's BA"
          ],
          [
           "How many at bats did the Yankee with the most walk"
          ],
          [
           "What country had the least number of athletes at t"
          ],
          [
           "I'd like to learn more about some popular reality "
          ],
          [
           "Hi, I was out sick from my classes on Friday, so I"
          ],
          [
           "In the film Goldfinger, what color was the object "
          ],
          [
           "When was a picture of St. Thomas Aquinas first add"
          ],
          [
           "In the 2015 Metropolitan Museum of Art exhibition "
          ],
          [
           "I'm curious about how much information is availabl"
          ],
          [
           "It's May 2023, and I'm about to drive across the U"
          ],
          [
           "In the YouTube 360 VR video from March 2018 narrat"
          ],
          [
           "If this whole pint is made up of ice cream, how ma"
          ],
          [
           "At the two-minute mark in the YouTube video upload"
          ],
          [
           "The year is 2022. I am at the National Air and Spa"
          ],
          [
           "As of May 2023, how many stops are between South S"
          ],
          [
           "The brand that makes these harnesses the dogs are "
          ],
          [
           "In NASA's Astronomy Picture of the Day on 2006 Jan"
          ],
          [
           "Eva Draconis has a personal website which can be a"
          ],
          [
           "On June 6, 2023, an article by Carolyn Collins Pet"
          ],
          [
           "As of August 2023, who is the only winner of the U"
          ],
          [
           "According to Openreview.net, at the NeurIPS 2022 C"
          ],
          [
           "How many pages if the 2023 IPCC report (85 pages v"
          ],
          [
           "I read a paper about multiwavelength observations "
          ],
          [
           "What was the actual enrollment count of the clinic"
          ],
          [
           "On a leap day before the year 2008, a joke was rem"
          ],
          [
           "On ScienceDirect, what is the difference to 3 deci"
          ]
         ],
         "hovertemplate": "agent_name=generate-traces-03-apr-noplanning<br>index=%{x}<br>is_correct=%{y}<br>question=%{customdata[0]}<extra></extra>",
         "legendgroup": "generate-traces-03-apr-noplanning",
         "line": {
          "color": "#FFA15A",
          "dash": "solid"
         },
         "marker": {
          "symbol": "circle"
         },
         "mode": "lines",
         "name": "generate-traces-03-apr-noplanning",
         "orientation": "v",
         "showlegend": true,
         "type": "scatter",
         "x": [
          0,
          1,
          2,
          3,
          4,
          5,
          6,
          7,
          8,
          9,
          10,
          11,
          12,
          13,
          14,
          15,
          16,
          17,
          18,
          19,
          20,
          21,
          22,
          23,
          24,
          25,
          26,
          27,
          28,
          29,
          30,
          31,
          32,
          33,
          34,
          35,
          36,
          37,
          38,
          39,
          40,
          41,
          42,
          43,
          44,
          45,
          46,
          47,
          48,
          49,
          50,
          51,
          52,
          53,
          54,
          55,
          56,
          57,
          58,
          59,
          60,
          61,
          62,
          63,
          64,
          65,
          66,
          67,
          68,
          69,
          70,
          71,
          72,
          73,
          74,
          75,
          76,
          77,
          78,
          79,
          80,
          81,
          82,
          83,
          84,
          85,
          86,
          87,
          88,
          89,
          90,
          91,
          92,
          93,
          94,
          95,
          96,
          97,
          98,
          99,
          100,
          101,
          102,
          103,
          104,
          105,
          106,
          107,
          108,
          109,
          110,
          111,
          112,
          113,
          114,
          115,
          116,
          117,
          118,
          119,
          120,
          121,
          122,
          123,
          124,
          125,
          126,
          127,
          128,
          129,
          130,
          131,
          132,
          133,
          134,
          135,
          136,
          137,
          138,
          139,
          140,
          141,
          142,
          143,
          144,
          145,
          146,
          147,
          148,
          149,
          150,
          151,
          152,
          153,
          154,
          155,
          156,
          157,
          158,
          159,
          160,
          161,
          162,
          163,
          164
         ],
         "xaxis": "x",
         "y": [
          0,
          0,
          0,
          0,
          0,
          0,
          0.14285714285714285,
          0.125,
          0.2222222222222222,
          0.3,
          0.2727272727272727,
          0.3333333333333333,
          0.38461538461538464,
          0.35714285714285715,
          0.4,
          0.4375,
          0.4117647058823529,
          0.3888888888888889,
          0.42105263157894735,
          0.45,
          0.42857142857142855,
          0.4090909090909091,
          0.43478260869565216,
          0.4583333333333333,
          0.44,
          0.4230769230769231,
          0.4074074074074074,
          0.39285714285714285,
          0.41379310344827586,
          0.4,
          0.3870967741935484,
          0.375,
          0.3939393939393939,
          0.4117647058823529,
          0.4,
          0.4166666666666667,
          0.43243243243243246,
          0.4473684210526316,
          0.4358974358974359,
          0.45,
          0.4634146341463415,
          0.47619047619047616,
          0.46511627906976744,
          0.45454545454545453,
          0.4666666666666667,
          0.45652173913043476,
          0.44680851063829785,
          0.4375,
          0.4489795918367347,
          0.44,
          0.43137254901960786,
          0.4230769230769231,
          0.4339622641509434,
          0.42592592592592593,
          0.41818181818181815,
          0.4107142857142857,
          0.42105263157894735,
          0.41379310344827586,
          0.423728813559322,
          0.4166666666666667,
          0.4262295081967213,
          0.43548387096774194,
          0.42857142857142855,
          0.421875,
          0.4307692307692308,
          0.42424242424242425,
          0.417910447761194,
          0.4117647058823529,
          0.42028985507246375,
          0.42857142857142855,
          0.4225352112676056,
          0.4166666666666667,
          0.4246575342465753,
          0.43243243243243246,
          0.4266666666666667,
          0.4342105263157895,
          0.44155844155844154,
          0.4358974358974359,
          0.43037974683544306,
          0.425,
          0.41975308641975306,
          0.4146341463414634,
          0.40963855421686746,
          0.40476190476190477,
          0.4117647058823529,
          0.4069767441860465,
          0.41379310344827586,
          0.4090909090909091,
          0.4044943820224719,
          0.4111111111111111,
          0.4065934065934066,
          0.41304347826086957,
          0.41935483870967744,
          0.4148936170212766,
          0.42105263157894735,
          0.4270833333333333,
          0.4329896907216495,
          0.4387755102040816,
          0.4444444444444444,
          0.44,
          0.44554455445544555,
          0.45098039215686275,
          0.44660194174757284,
          0.4519230769230769,
          0.44761904761904764,
          0.44339622641509435,
          0.4392523364485981,
          0.4444444444444444,
          0.44954128440366975,
          0.45454545454545453,
          0.45045045045045046,
          0.44642857142857145,
          0.4424778761061947,
          0.43859649122807015,
          0.4434782608695652,
          0.4396551724137931,
          0.4444444444444444,
          0.4406779661016949,
          0.4369747899159664,
          0.44166666666666665,
          0.4380165289256198,
          0.4344262295081967,
          0.43089430894308944,
          0.43548387096774194,
          0.432,
          0.42857142857142855,
          0.4251968503937008,
          0.421875,
          0.4186046511627907,
          0.4230769230769231,
          0.4198473282442748,
          0.42424242424242425,
          0.42857142857142855,
          0.43283582089552236,
          0.42962962962962964,
          0.4264705882352941,
          0.4233576642335766,
          0.42028985507246375,
          0.4244604316546763,
          0.42142857142857143,
          0.425531914893617,
          0.4295774647887324,
          0.42657342657342656,
          0.4236111111111111,
          0.42758620689655175,
          0.4246575342465753,
          0.4217687074829932,
          0.4189189189189189,
          0.4228187919463087,
          0.42,
          0.41721854304635764,
          0.4144736842105263,
          0.4117647058823529,
          0.4090909090909091,
          0.4064516129032258,
          0.40384615384615385,
          0.4012738853503185,
          0.4050632911392405,
          0.4025157232704403,
          0.4,
          0.40372670807453415,
          0.4012345679012346,
          0.3987730061349693,
          0.39634146341463417,
          0.3939393939393939
         ],
         "yaxis": "y"
        }
       ],
       "layout": {
        "legend": {
         "title": {
          "text": "agent_name"
         },
         "tracegroupgap": 0
        },
        "margin": {
         "t": 60
        },
        "template": {
         "data": {
          "bar": [
           {
            "error_x": {
             "color": "#2a3f5f"
            },
            "error_y": {
             "color": "#2a3f5f"
            },
            "marker": {
             "line": {
              "color": "#E5ECF6",
              "width": 0.5
             },
             "pattern": {
              "fillmode": "overlay",
              "size": 10,
              "solidity": 0.2
             }
            },
            "type": "bar"
           }
          ],
          "barpolar": [
           {
            "marker": {
             "line": {
              "color": "#E5ECF6",
              "width": 0.5
             },
             "pattern": {
              "fillmode": "overlay",
              "size": 10,
              "solidity": 0.2
             }
            },
            "type": "barpolar"
           }
          ],
          "carpet": [
           {
            "aaxis": {
             "endlinecolor": "#2a3f5f",
             "gridcolor": "white",
             "linecolor": "white",
             "minorgridcolor": "white",
             "startlinecolor": "#2a3f5f"
            },
            "baxis": {
             "endlinecolor": "#2a3f5f",
             "gridcolor": "white",
             "linecolor": "white",
             "minorgridcolor": "white",
             "startlinecolor": "#2a3f5f"
            },
            "type": "carpet"
           }
          ],
          "choropleth": [
           {
            "colorbar": {
             "outlinewidth": 0,
             "ticks": ""
            },
            "type": "choropleth"
           }
          ],
          "contour": [
           {
            "colorbar": {
             "outlinewidth": 0,
             "ticks": ""
            },
            "colorscale": [
             [
              0,
              "#0d0887"
             ],
             [
              0.1111111111111111,
              "#46039f"
             ],
             [
              0.2222222222222222,
              "#7201a8"
             ],
             [
              0.3333333333333333,
              "#9c179e"
             ],
             [
              0.4444444444444444,
              "#bd3786"
             ],
             [
              0.5555555555555556,
              "#d8576b"
             ],
             [
              0.6666666666666666,
              "#ed7953"
             ],
             [
              0.7777777777777778,
              "#fb9f3a"
             ],
             [
              0.8888888888888888,
              "#fdca26"
             ],
             [
              1,
              "#f0f921"
             ]
            ],
            "type": "contour"
           }
          ],
          "contourcarpet": [
           {
            "colorbar": {
             "outlinewidth": 0,
             "ticks": ""
            },
            "type": "contourcarpet"
           }
          ],
          "heatmap": [
           {
            "colorbar": {
             "outlinewidth": 0,
             "ticks": ""
            },
            "colorscale": [
             [
              0,
              "#0d0887"
             ],
             [
              0.1111111111111111,
              "#46039f"
             ],
             [
              0.2222222222222222,
              "#7201a8"
             ],
             [
              0.3333333333333333,
              "#9c179e"
             ],
             [
              0.4444444444444444,
              "#bd3786"
             ],
             [
              0.5555555555555556,
              "#d8576b"
             ],
             [
              0.6666666666666666,
              "#ed7953"
             ],
             [
              0.7777777777777778,
              "#fb9f3a"
             ],
             [
              0.8888888888888888,
              "#fdca26"
             ],
             [
              1,
              "#f0f921"
             ]
            ],
            "type": "heatmap"
           }
          ],
          "heatmapgl": [
           {
            "colorbar": {
             "outlinewidth": 0,
             "ticks": ""
            },
            "colorscale": [
             [
              0,
              "#0d0887"
             ],
             [
              0.1111111111111111,
              "#46039f"
             ],
             [
              0.2222222222222222,
              "#7201a8"
             ],
             [
              0.3333333333333333,
              "#9c179e"
             ],
             [
              0.4444444444444444,
              "#bd3786"
             ],
             [
              0.5555555555555556,
              "#d8576b"
             ],
             [
              0.6666666666666666,
              "#ed7953"
             ],
             [
              0.7777777777777778,
              "#fb9f3a"
             ],
             [
              0.8888888888888888,
              "#fdca26"
             ],
             [
              1,
              "#f0f921"
             ]
            ],
            "type": "heatmapgl"
           }
          ],
          "histogram": [
           {
            "marker": {
             "pattern": {
              "fillmode": "overlay",
              "size": 10,
              "solidity": 0.2
             }
            },
            "type": "histogram"
           }
          ],
          "histogram2d": [
           {
            "colorbar": {
             "outlinewidth": 0,
             "ticks": ""
            },
            "colorscale": [
             [
              0,
              "#0d0887"
             ],
             [
              0.1111111111111111,
              "#46039f"
             ],
             [
              0.2222222222222222,
              "#7201a8"
             ],
             [
              0.3333333333333333,
              "#9c179e"
             ],
             [
              0.4444444444444444,
              "#bd3786"
             ],
             [
              0.5555555555555556,
              "#d8576b"
             ],
             [
              0.6666666666666666,
              "#ed7953"
             ],
             [
              0.7777777777777778,
              "#fb9f3a"
             ],
             [
              0.8888888888888888,
              "#fdca26"
             ],
             [
              1,
              "#f0f921"
             ]
            ],
            "type": "histogram2d"
           }
          ],
          "histogram2dcontour": [
           {
            "colorbar": {
             "outlinewidth": 0,
             "ticks": ""
            },
            "colorscale": [
             [
              0,
              "#0d0887"
             ],
             [
              0.1111111111111111,
              "#46039f"
             ],
             [
              0.2222222222222222,
              "#7201a8"
             ],
             [
              0.3333333333333333,
              "#9c179e"
             ],
             [
              0.4444444444444444,
              "#bd3786"
             ],
             [
              0.5555555555555556,
              "#d8576b"
             ],
             [
              0.6666666666666666,
              "#ed7953"
             ],
             [
              0.7777777777777778,
              "#fb9f3a"
             ],
             [
              0.8888888888888888,
              "#fdca26"
             ],
             [
              1,
              "#f0f921"
             ]
            ],
            "type": "histogram2dcontour"
           }
          ],
          "mesh3d": [
           {
            "colorbar": {
             "outlinewidth": 0,
             "ticks": ""
            },
            "type": "mesh3d"
           }
          ],
          "parcoords": [
           {
            "line": {
             "colorbar": {
              "outlinewidth": 0,
              "ticks": ""
             }
            },
            "type": "parcoords"
           }
          ],
          "pie": [
           {
            "automargin": true,
            "type": "pie"
           }
          ],
          "scatter": [
           {
            "fillpattern": {
             "fillmode": "overlay",
             "size": 10,
             "solidity": 0.2
            },
            "type": "scatter"
           }
          ],
          "scatter3d": [
           {
            "line": {
             "colorbar": {
              "outlinewidth": 0,
              "ticks": ""
             }
            },
            "marker": {
             "colorbar": {
              "outlinewidth": 0,
              "ticks": ""
             }
            },
            "type": "scatter3d"
           }
          ],
          "scattercarpet": [
           {
            "marker": {
             "colorbar": {
              "outlinewidth": 0,
              "ticks": ""
             }
            },
            "type": "scattercarpet"
           }
          ],
          "scattergeo": [
           {
            "marker": {
             "colorbar": {
              "outlinewidth": 0,
              "ticks": ""
             }
            },
            "type": "scattergeo"
           }
          ],
          "scattergl": [
           {
            "marker": {
             "colorbar": {
              "outlinewidth": 0,
              "ticks": ""
             }
            },
            "type": "scattergl"
           }
          ],
          "scattermapbox": [
           {
            "marker": {
             "colorbar": {
              "outlinewidth": 0,
              "ticks": ""
             }
            },
            "type": "scattermapbox"
           }
          ],
          "scatterpolar": [
           {
            "marker": {
             "colorbar": {
              "outlinewidth": 0,
              "ticks": ""
             }
            },
            "type": "scatterpolar"
           }
          ],
          "scatterpolargl": [
           {
            "marker": {
             "colorbar": {
              "outlinewidth": 0,
              "ticks": ""
             }
            },
            "type": "scatterpolargl"
           }
          ],
          "scatterternary": [
           {
            "marker": {
             "colorbar": {
              "outlinewidth": 0,
              "ticks": ""
             }
            },
            "type": "scatterternary"
           }
          ],
          "surface": [
           {
            "colorbar": {
             "outlinewidth": 0,
             "ticks": ""
            },
            "colorscale": [
             [
              0,
              "#0d0887"
             ],
             [
              0.1111111111111111,
              "#46039f"
             ],
             [
              0.2222222222222222,
              "#7201a8"
             ],
             [
              0.3333333333333333,
              "#9c179e"
             ],
             [
              0.4444444444444444,
              "#bd3786"
             ],
             [
              0.5555555555555556,
              "#d8576b"
             ],
             [
              0.6666666666666666,
              "#ed7953"
             ],
             [
              0.7777777777777778,
              "#fb9f3a"
             ],
             [
              0.8888888888888888,
              "#fdca26"
             ],
             [
              1,
              "#f0f921"
             ]
            ],
            "type": "surface"
           }
          ],
          "table": [
           {
            "cells": {
             "fill": {
              "color": "#EBF0F8"
             },
             "line": {
              "color": "white"
             }
            },
            "header": {
             "fill": {
              "color": "#C8D4E3"
             },
             "line": {
              "color": "white"
             }
            },
            "type": "table"
           }
          ]
         },
         "layout": {
          "annotationdefaults": {
           "arrowcolor": "#2a3f5f",
           "arrowhead": 0,
           "arrowwidth": 1
          },
          "autotypenumbers": "strict",
          "coloraxis": {
           "colorbar": {
            "outlinewidth": 0,
            "ticks": ""
           }
          },
          "colorscale": {
           "diverging": [
            [
             0,
             "#8e0152"
            ],
            [
             0.1,
             "#c51b7d"
            ],
            [
             0.2,
             "#de77ae"
            ],
            [
             0.3,
             "#f1b6da"
            ],
            [
             0.4,
             "#fde0ef"
            ],
            [
             0.5,
             "#f7f7f7"
            ],
            [
             0.6,
             "#e6f5d0"
            ],
            [
             0.7,
             "#b8e186"
            ],
            [
             0.8,
             "#7fbc41"
            ],
            [
             0.9,
             "#4d9221"
            ],
            [
             1,
             "#276419"
            ]
           ],
           "sequential": [
            [
             0,
             "#0d0887"
            ],
            [
             0.1111111111111111,
             "#46039f"
            ],
            [
             0.2222222222222222,
             "#7201a8"
            ],
            [
             0.3333333333333333,
             "#9c179e"
            ],
            [
             0.4444444444444444,
             "#bd3786"
            ],
            [
             0.5555555555555556,
             "#d8576b"
            ],
            [
             0.6666666666666666,
             "#ed7953"
            ],
            [
             0.7777777777777778,
             "#fb9f3a"
            ],
            [
             0.8888888888888888,
             "#fdca26"
            ],
            [
             1,
             "#f0f921"
            ]
           ],
           "sequentialminus": [
            [
             0,
             "#0d0887"
            ],
            [
             0.1111111111111111,
             "#46039f"
            ],
            [
             0.2222222222222222,
             "#7201a8"
            ],
            [
             0.3333333333333333,
             "#9c179e"
            ],
            [
             0.4444444444444444,
             "#bd3786"
            ],
            [
             0.5555555555555556,
             "#d8576b"
            ],
            [
             0.6666666666666666,
             "#ed7953"
            ],
            [
             0.7777777777777778,
             "#fb9f3a"
            ],
            [
             0.8888888888888888,
             "#fdca26"
            ],
            [
             1,
             "#f0f921"
            ]
           ]
          },
          "colorway": [
           "#636efa",
           "#EF553B",
           "#00cc96",
           "#ab63fa",
           "#FFA15A",
           "#19d3f3",
           "#FF6692",
           "#B6E880",
           "#FF97FF",
           "#FECB52"
          ],
          "font": {
           "color": "#2a3f5f"
          },
          "geo": {
           "bgcolor": "white",
           "lakecolor": "white",
           "landcolor": "#E5ECF6",
           "showlakes": true,
           "showland": true,
           "subunitcolor": "white"
          },
          "hoverlabel": {
           "align": "left"
          },
          "hovermode": "closest",
          "mapbox": {
           "style": "light"
          },
          "paper_bgcolor": "white",
          "plot_bgcolor": "#E5ECF6",
          "polar": {
           "angularaxis": {
            "gridcolor": "white",
            "linecolor": "white",
            "ticks": ""
           },
           "bgcolor": "#E5ECF6",
           "radialaxis": {
            "gridcolor": "white",
            "linecolor": "white",
            "ticks": ""
           }
          },
          "scene": {
           "xaxis": {
            "backgroundcolor": "#E5ECF6",
            "gridcolor": "white",
            "gridwidth": 2,
            "linecolor": "white",
            "showbackground": true,
            "ticks": "",
            "zerolinecolor": "white"
           },
           "yaxis": {
            "backgroundcolor": "#E5ECF6",
            "gridcolor": "white",
            "gridwidth": 2,
            "linecolor": "white",
            "showbackground": true,
            "ticks": "",
            "zerolinecolor": "white"
           },
           "zaxis": {
            "backgroundcolor": "#E5ECF6",
            "gridcolor": "white",
            "gridwidth": 2,
            "linecolor": "white",
            "showbackground": true,
            "ticks": "",
            "zerolinecolor": "white"
           }
          },
          "shapedefaults": {
           "line": {
            "color": "#2a3f5f"
           }
          },
          "ternary": {
           "aaxis": {
            "gridcolor": "white",
            "linecolor": "white",
            "ticks": ""
           },
           "baxis": {
            "gridcolor": "white",
            "linecolor": "white",
            "ticks": ""
           },
           "bgcolor": "#E5ECF6",
           "caxis": {
            "gridcolor": "white",
            "linecolor": "white",
            "ticks": ""
           }
          },
          "title": {
           "x": 0.05
          },
          "xaxis": {
           "automargin": true,
           "gridcolor": "white",
           "linecolor": "white",
           "ticks": "",
           "title": {
            "standoff": 15
           },
           "zerolinecolor": "white",
           "zerolinewidth": 2
          },
          "yaxis": {
           "automargin": true,
           "gridcolor": "white",
           "linecolor": "white",
           "ticks": "",
           "title": {
            "standoff": 15
           },
           "zerolinecolor": "white",
           "zerolinewidth": 2
          }
         }
        },
        "xaxis": {
         "anchor": "y",
         "domain": [
          0,
          1
         ],
         "title": {
          "text": "index"
         }
        },
        "yaxis": {
         "anchor": "x",
         "domain": [
          0,
          1
         ],
         "title": {
          "text": "is_correct"
         }
        }
       }
      }
     },
     "metadata": {},
     "output_type": "display_data"
    }
   ],
   "source": [
    "import plotly.express as px\n",
    "\n",
    "\n",
    "cumulative_df = (\n",
    "    (\n",
    "        sel_df.groupby(\"agent_name\")[[\"is_correct\", \"is_near_correct\"]]\n",
    "        .expanding(min_periods=1, axis=0, method=\"single\")\n",
    "        .agg({\"is_correct\": \"mean\", \"is_near_correct\": \"count\"})\n",
    "        .reset_index()\n",
    "    )\n",
    "    .copy()\n",
    "    .rename(columns={\"is_near_correct\": \"index\"})\n",
    ")\n",
    "cumulative_df[\"index\"] = cumulative_df[\"index\"].astype(int) - 1\n",
    "\n",
    "\n",
    "def find_question(row):\n",
    "    try:\n",
    "        res = sel_df.loc[sel_df[\"agent_name\"] == row[\"agent_name\"], \"question\"].iloc[row[\"index\"]][:50]\n",
    "        return res\n",
    "    except Exception:\n",
    "        return \"\"\n",
    "\n",
    "\n",
    "cumulative_df[\"question\"] = cumulative_df.apply(find_question, axis=1)\n",
    "# cumulative_df[\"question\"] = [el[:50] for el in sel_df[\"question\"].values]\n",
    "\n",
    "# cumulative_df[\"is_correct\"] = cumulative_df[\"is_correct\"] * (165 - 68) / 165\n",
    "\n",
    "px.line(\n",
    "    cumulative_df,\n",
    "    color=\"agent_name\",\n",
    "    x=\"index\",\n",
    "    y=\"is_correct\",\n",
    "    hover_data=\"question\",\n",
    ")"
   ]
  },
  {
   "cell_type": "markdown",
   "metadata": {},
   "source": [
    "# 3. Dive deeper into one run"
   ]
  },
  {
   "cell_type": "code",
   "execution_count": 12,
   "metadata": {},
   "outputs": [
    {
     "name": "stdout",
     "output_type": "stream",
     "text": [
      "165\n"
     ]
    }
   ],
   "source": [
    "sel_df = result_df.loc[result_df[\"agent_name\"] == o1]\n",
    "print(len(sel_df))"
   ]
  },
  {
   "cell_type": "markdown",
   "metadata": {},
   "source": [
    "### Count errors"
   ]
  },
  {
   "cell_type": "code",
   "execution_count": 13,
   "metadata": {},
   "outputs": [
    {
     "name": "stderr",
     "output_type": "stream",
     "text": [
      "/var/folders/6m/9b1tts6d5w960j80wbw9tx3m0000gn/T/ipykernel_25011/2022001392.py:10: SettingWithCopyWarning:\n",
      "\n",
      "\n",
      "A value is trying to be set on a copy of a slice from a DataFrame.\n",
      "Try using .loc[row_indexer,col_indexer] = value instead\n",
      "\n",
      "See the caveats in the documentation: https://pandas.pydata.org/pandas-docs/stable/user_guide/indexing.html#returning-a-view-versus-a-copy\n",
      "\n",
      "/var/folders/6m/9b1tts6d5w960j80wbw9tx3m0000gn/T/ipykernel_25011/2022001392.py:10: SettingWithCopyWarning:\n",
      "\n",
      "\n",
      "A value is trying to be set on a copy of a slice from a DataFrame.\n",
      "Try using .loc[row_indexer,col_indexer] = value instead\n",
      "\n",
      "See the caveats in the documentation: https://pandas.pydata.org/pandas-docs/stable/user_guide/indexing.html#returning-a-view-versus-a-copy\n",
      "\n",
      "/var/folders/6m/9b1tts6d5w960j80wbw9tx3m0000gn/T/ipykernel_25011/2022001392.py:10: SettingWithCopyWarning:\n",
      "\n",
      "\n",
      "A value is trying to be set on a copy of a slice from a DataFrame.\n",
      "Try using .loc[row_indexer,col_indexer] = value instead\n",
      "\n",
      "See the caveats in the documentation: https://pandas.pydata.org/pandas-docs/stable/user_guide/indexing.html#returning-a-view-versus-a-copy\n",
      "\n",
      "/var/folders/6m/9b1tts6d5w960j80wbw9tx3m0000gn/T/ipykernel_25011/2022001392.py:10: SettingWithCopyWarning:\n",
      "\n",
      "\n",
      "A value is trying to be set on a copy of a slice from a DataFrame.\n",
      "Try using .loc[row_indexer,col_indexer] = value instead\n",
      "\n",
      "See the caveats in the documentation: https://pandas.pydata.org/pandas-docs/stable/user_guide/indexing.html#returning-a-view-versus-a-copy\n",
      "\n",
      "/var/folders/6m/9b1tts6d5w960j80wbw9tx3m0000gn/T/ipykernel_25011/2022001392.py:11: SettingWithCopyWarning:\n",
      "\n",
      "\n",
      "A value is trying to be set on a copy of a slice from a DataFrame.\n",
      "Try using .loc[row_indexer,col_indexer] = value instead\n",
      "\n",
      "See the caveats in the documentation: https://pandas.pydata.org/pandas-docs/stable/user_guide/indexing.html#returning-a-view-versus-a-copy\n",
      "\n"
     ]
    }
   ],
   "source": [
    "import numpy as np\n",
    "\n",
    "\n",
    "error_types = [\n",
    "    \"AgentParsingError\",\n",
    "    \"AgentExecutionError\",\n",
    "    \"AgentMaxIterationsError\",\n",
    "    \"AgentGenerationError\",\n",
    "]\n",
    "sel_df[error_types] = 0\n",
    "sel_df[\"Count steps\"] = np.nan\n",
    "\n",
    "\n",
    "def count_errors(row):\n",
    "    if isinstance(row[\"intermediate_steps\"], list):\n",
    "        row[\"Count steps\"] = len(row[\"intermediate_steps\"])\n",
    "        for step in row[\"intermediate_steps\"]:\n",
    "            if isinstance(step, dict) and \"error\" in step:\n",
    "                try:\n",
    "                    row[str(step[\"error\"][\"error_type\"])] += 1\n",
    "                except Exception:\n",
    "                    pass\n",
    "    return row\n",
    "\n",
    "\n",
    "sel_df = sel_df.apply(count_errors, axis=1)"
   ]
  },
  {
   "cell_type": "code",
   "execution_count": 14,
   "metadata": {},
   "outputs": [
    {
     "data": {
      "application/vnd.plotly.v1+json": {
       "config": {
        "plotlyServerURL": "https://plot.ly"
       },
       "data": [
        {
         "hovertemplate": "is_correct=False<br>variable=%{x}<br><b>Average count</b>=%{y}<extra></extra>",
         "legendgroup": "False",
         "marker": {
          "color": "#636efa",
          "pattern": {
           "shape": ""
          }
         },
         "name": "False",
         "orientation": "v",
         "showlegend": true,
         "textposition": "outside",
         "type": "bar",
         "x": [
          "AgentParsingError",
          "AgentExecutionError",
          "AgentMaxIterationsError",
          "AgentGenerationError",
          "Count steps"
         ],
         "xaxis": "x",
         "y": {
          "bdata": "AAAAAAAAAAAAAAAAAAAAAAAAAAAAAAAAAAAAAAAAAACSJEmSJEkMQA==",
          "dtype": "f8"
         },
         "yaxis": "y"
        },
        {
         "hovertemplate": "is_correct=True<br>variable=%{x}<br><b>Average count</b>=%{y}<extra></extra>",
         "legendgroup": "True",
         "marker": {
          "color": "#EF553B",
          "pattern": {
           "shape": ""
          }
         },
         "name": "True",
         "orientation": "v",
         "showlegend": true,
         "textposition": "outside",
         "type": "bar",
         "x": [
          "AgentParsingError",
          "AgentExecutionError",
          "AgentMaxIterationsError",
          "AgentGenerationError",
          "Count steps"
         ],
         "xaxis": "x",
         "y": {
          "bdata": "AAAAAAAAAAAAAAAAAAAAAAAAAAAAAAAAAAAAAAAAAABPt+aHRcoIQA==",
          "dtype": "f8"
         },
         "yaxis": "y"
        }
       ],
       "layout": {
        "bargroupgap": 0,
        "barmode": "group",
        "height": 500,
        "legend": {
         "title": {
          "text": "is_correct"
         },
         "tracegroupgap": 0
        },
        "margin": {
         "t": 60
        },
        "template": {
         "data": {
          "bar": [
           {
            "error_x": {
             "color": "#2a3f5f"
            },
            "error_y": {
             "color": "#2a3f5f"
            },
            "marker": {
             "line": {
              "color": "#E5ECF6",
              "width": 0.5
             },
             "pattern": {
              "fillmode": "overlay",
              "size": 10,
              "solidity": 0.2
             }
            },
            "type": "bar"
           }
          ],
          "barpolar": [
           {
            "marker": {
             "line": {
              "color": "#E5ECF6",
              "width": 0.5
             },
             "pattern": {
              "fillmode": "overlay",
              "size": 10,
              "solidity": 0.2
             }
            },
            "type": "barpolar"
           }
          ],
          "carpet": [
           {
            "aaxis": {
             "endlinecolor": "#2a3f5f",
             "gridcolor": "white",
             "linecolor": "white",
             "minorgridcolor": "white",
             "startlinecolor": "#2a3f5f"
            },
            "baxis": {
             "endlinecolor": "#2a3f5f",
             "gridcolor": "white",
             "linecolor": "white",
             "minorgridcolor": "white",
             "startlinecolor": "#2a3f5f"
            },
            "type": "carpet"
           }
          ],
          "choropleth": [
           {
            "colorbar": {
             "outlinewidth": 0,
             "ticks": ""
            },
            "type": "choropleth"
           }
          ],
          "contour": [
           {
            "colorbar": {
             "outlinewidth": 0,
             "ticks": ""
            },
            "colorscale": [
             [
              0,
              "#0d0887"
             ],
             [
              0.1111111111111111,
              "#46039f"
             ],
             [
              0.2222222222222222,
              "#7201a8"
             ],
             [
              0.3333333333333333,
              "#9c179e"
             ],
             [
              0.4444444444444444,
              "#bd3786"
             ],
             [
              0.5555555555555556,
              "#d8576b"
             ],
             [
              0.6666666666666666,
              "#ed7953"
             ],
             [
              0.7777777777777778,
              "#fb9f3a"
             ],
             [
              0.8888888888888888,
              "#fdca26"
             ],
             [
              1,
              "#f0f921"
             ]
            ],
            "type": "contour"
           }
          ],
          "contourcarpet": [
           {
            "colorbar": {
             "outlinewidth": 0,
             "ticks": ""
            },
            "type": "contourcarpet"
           }
          ],
          "heatmap": [
           {
            "colorbar": {
             "outlinewidth": 0,
             "ticks": ""
            },
            "colorscale": [
             [
              0,
              "#0d0887"
             ],
             [
              0.1111111111111111,
              "#46039f"
             ],
             [
              0.2222222222222222,
              "#7201a8"
             ],
             [
              0.3333333333333333,
              "#9c179e"
             ],
             [
              0.4444444444444444,
              "#bd3786"
             ],
             [
              0.5555555555555556,
              "#d8576b"
             ],
             [
              0.6666666666666666,
              "#ed7953"
             ],
             [
              0.7777777777777778,
              "#fb9f3a"
             ],
             [
              0.8888888888888888,
              "#fdca26"
             ],
             [
              1,
              "#f0f921"
             ]
            ],
            "type": "heatmap"
           }
          ],
          "histogram": [
           {
            "marker": {
             "pattern": {
              "fillmode": "overlay",
              "size": 10,
              "solidity": 0.2
             }
            },
            "type": "histogram"
           }
          ],
          "histogram2d": [
           {
            "colorbar": {
             "outlinewidth": 0,
             "ticks": ""
            },
            "colorscale": [
             [
              0,
              "#0d0887"
             ],
             [
              0.1111111111111111,
              "#46039f"
             ],
             [
              0.2222222222222222,
              "#7201a8"
             ],
             [
              0.3333333333333333,
              "#9c179e"
             ],
             [
              0.4444444444444444,
              "#bd3786"
             ],
             [
              0.5555555555555556,
              "#d8576b"
             ],
             [
              0.6666666666666666,
              "#ed7953"
             ],
             [
              0.7777777777777778,
              "#fb9f3a"
             ],
             [
              0.8888888888888888,
              "#fdca26"
             ],
             [
              1,
              "#f0f921"
             ]
            ],
            "type": "histogram2d"
           }
          ],
          "histogram2dcontour": [
           {
            "colorbar": {
             "outlinewidth": 0,
             "ticks": ""
            },
            "colorscale": [
             [
              0,
              "#0d0887"
             ],
             [
              0.1111111111111111,
              "#46039f"
             ],
             [
              0.2222222222222222,
              "#7201a8"
             ],
             [
              0.3333333333333333,
              "#9c179e"
             ],
             [
              0.4444444444444444,
              "#bd3786"
             ],
             [
              0.5555555555555556,
              "#d8576b"
             ],
             [
              0.6666666666666666,
              "#ed7953"
             ],
             [
              0.7777777777777778,
              "#fb9f3a"
             ],
             [
              0.8888888888888888,
              "#fdca26"
             ],
             [
              1,
              "#f0f921"
             ]
            ],
            "type": "histogram2dcontour"
           }
          ],
          "mesh3d": [
           {
            "colorbar": {
             "outlinewidth": 0,
             "ticks": ""
            },
            "type": "mesh3d"
           }
          ],
          "parcoords": [
           {
            "line": {
             "colorbar": {
              "outlinewidth": 0,
              "ticks": ""
             }
            },
            "type": "parcoords"
           }
          ],
          "pie": [
           {
            "automargin": true,
            "type": "pie"
           }
          ],
          "scatter": [
           {
            "fillpattern": {
             "fillmode": "overlay",
             "size": 10,
             "solidity": 0.2
            },
            "type": "scatter"
           }
          ],
          "scatter3d": [
           {
            "line": {
             "colorbar": {
              "outlinewidth": 0,
              "ticks": ""
             }
            },
            "marker": {
             "colorbar": {
              "outlinewidth": 0,
              "ticks": ""
             }
            },
            "type": "scatter3d"
           }
          ],
          "scattercarpet": [
           {
            "marker": {
             "colorbar": {
              "outlinewidth": 0,
              "ticks": ""
             }
            },
            "type": "scattercarpet"
           }
          ],
          "scattergeo": [
           {
            "marker": {
             "colorbar": {
              "outlinewidth": 0,
              "ticks": ""
             }
            },
            "type": "scattergeo"
           }
          ],
          "scattergl": [
           {
            "marker": {
             "colorbar": {
              "outlinewidth": 0,
              "ticks": ""
             }
            },
            "type": "scattergl"
           }
          ],
          "scattermap": [
           {
            "marker": {
             "colorbar": {
              "outlinewidth": 0,
              "ticks": ""
             }
            },
            "type": "scattermap"
           }
          ],
          "scattermapbox": [
           {
            "marker": {
             "colorbar": {
              "outlinewidth": 0,
              "ticks": ""
             }
            },
            "type": "scattermapbox"
           }
          ],
          "scatterpolar": [
           {
            "marker": {
             "colorbar": {
              "outlinewidth": 0,
              "ticks": ""
             }
            },
            "type": "scatterpolar"
           }
          ],
          "scatterpolargl": [
           {
            "marker": {
             "colorbar": {
              "outlinewidth": 0,
              "ticks": ""
             }
            },
            "type": "scatterpolargl"
           }
          ],
          "scatterternary": [
           {
            "marker": {
             "colorbar": {
              "outlinewidth": 0,
              "ticks": ""
             }
            },
            "type": "scatterternary"
           }
          ],
          "surface": [
           {
            "colorbar": {
             "outlinewidth": 0,
             "ticks": ""
            },
            "colorscale": [
             [
              0,
              "#0d0887"
             ],
             [
              0.1111111111111111,
              "#46039f"
             ],
             [
              0.2222222222222222,
              "#7201a8"
             ],
             [
              0.3333333333333333,
              "#9c179e"
             ],
             [
              0.4444444444444444,
              "#bd3786"
             ],
             [
              0.5555555555555556,
              "#d8576b"
             ],
             [
              0.6666666666666666,
              "#ed7953"
             ],
             [
              0.7777777777777778,
              "#fb9f3a"
             ],
             [
              0.8888888888888888,
              "#fdca26"
             ],
             [
              1,
              "#f0f921"
             ]
            ],
            "type": "surface"
           }
          ],
          "table": [
           {
            "cells": {
             "fill": {
              "color": "#EBF0F8"
             },
             "line": {
              "color": "white"
             }
            },
            "header": {
             "fill": {
              "color": "#C8D4E3"
             },
             "line": {
              "color": "white"
             }
            },
            "type": "table"
           }
          ]
         },
         "layout": {
          "annotationdefaults": {
           "arrowcolor": "#2a3f5f",
           "arrowhead": 0,
           "arrowwidth": 1
          },
          "autotypenumbers": "strict",
          "coloraxis": {
           "colorbar": {
            "outlinewidth": 0,
            "ticks": ""
           }
          },
          "colorscale": {
           "diverging": [
            [
             0,
             "#8e0152"
            ],
            [
             0.1,
             "#c51b7d"
            ],
            [
             0.2,
             "#de77ae"
            ],
            [
             0.3,
             "#f1b6da"
            ],
            [
             0.4,
             "#fde0ef"
            ],
            [
             0.5,
             "#f7f7f7"
            ],
            [
             0.6,
             "#e6f5d0"
            ],
            [
             0.7,
             "#b8e186"
            ],
            [
             0.8,
             "#7fbc41"
            ],
            [
             0.9,
             "#4d9221"
            ],
            [
             1,
             "#276419"
            ]
           ],
           "sequential": [
            [
             0,
             "#0d0887"
            ],
            [
             0.1111111111111111,
             "#46039f"
            ],
            [
             0.2222222222222222,
             "#7201a8"
            ],
            [
             0.3333333333333333,
             "#9c179e"
            ],
            [
             0.4444444444444444,
             "#bd3786"
            ],
            [
             0.5555555555555556,
             "#d8576b"
            ],
            [
             0.6666666666666666,
             "#ed7953"
            ],
            [
             0.7777777777777778,
             "#fb9f3a"
            ],
            [
             0.8888888888888888,
             "#fdca26"
            ],
            [
             1,
             "#f0f921"
            ]
           ],
           "sequentialminus": [
            [
             0,
             "#0d0887"
            ],
            [
             0.1111111111111111,
             "#46039f"
            ],
            [
             0.2222222222222222,
             "#7201a8"
            ],
            [
             0.3333333333333333,
             "#9c179e"
            ],
            [
             0.4444444444444444,
             "#bd3786"
            ],
            [
             0.5555555555555556,
             "#d8576b"
            ],
            [
             0.6666666666666666,
             "#ed7953"
            ],
            [
             0.7777777777777778,
             "#fb9f3a"
            ],
            [
             0.8888888888888888,
             "#fdca26"
            ],
            [
             1,
             "#f0f921"
            ]
           ]
          },
          "colorway": [
           "#636efa",
           "#EF553B",
           "#00cc96",
           "#ab63fa",
           "#FFA15A",
           "#19d3f3",
           "#FF6692",
           "#B6E880",
           "#FF97FF",
           "#FECB52"
          ],
          "font": {
           "color": "#2a3f5f"
          },
          "geo": {
           "bgcolor": "white",
           "lakecolor": "white",
           "landcolor": "#E5ECF6",
           "showlakes": true,
           "showland": true,
           "subunitcolor": "white"
          },
          "hoverlabel": {
           "align": "left"
          },
          "hovermode": "closest",
          "mapbox": {
           "style": "light"
          },
          "paper_bgcolor": "white",
          "plot_bgcolor": "#E5ECF6",
          "polar": {
           "angularaxis": {
            "gridcolor": "white",
            "linecolor": "white",
            "ticks": ""
           },
           "bgcolor": "#E5ECF6",
           "radialaxis": {
            "gridcolor": "white",
            "linecolor": "white",
            "ticks": ""
           }
          },
          "scene": {
           "xaxis": {
            "backgroundcolor": "#E5ECF6",
            "gridcolor": "white",
            "gridwidth": 2,
            "linecolor": "white",
            "showbackground": true,
            "ticks": "",
            "zerolinecolor": "white"
           },
           "yaxis": {
            "backgroundcolor": "#E5ECF6",
            "gridcolor": "white",
            "gridwidth": 2,
            "linecolor": "white",
            "showbackground": true,
            "ticks": "",
            "zerolinecolor": "white"
           },
           "zaxis": {
            "backgroundcolor": "#E5ECF6",
            "gridcolor": "white",
            "gridwidth": 2,
            "linecolor": "white",
            "showbackground": true,
            "ticks": "",
            "zerolinecolor": "white"
           }
          },
          "shapedefaults": {
           "line": {
            "color": "#2a3f5f"
           }
          },
          "ternary": {
           "aaxis": {
            "gridcolor": "white",
            "linecolor": "white",
            "ticks": ""
           },
           "baxis": {
            "gridcolor": "white",
            "linecolor": "white",
            "ticks": ""
           },
           "bgcolor": "#E5ECF6",
           "caxis": {
            "gridcolor": "white",
            "linecolor": "white",
            "ticks": ""
           }
          },
          "title": {
           "x": 0.05
          },
          "xaxis": {
           "automargin": true,
           "gridcolor": "white",
           "linecolor": "white",
           "ticks": "",
           "title": {
            "standoff": 15
           },
           "zerolinecolor": "white",
           "zerolinewidth": 2
          },
          "yaxis": {
           "automargin": true,
           "gridcolor": "white",
           "linecolor": "white",
           "ticks": "",
           "title": {
            "standoff": 15
           },
           "zerolinecolor": "white",
           "zerolinewidth": 2
          }
         }
        },
        "width": 800,
        "xaxis": {
         "anchor": "y",
         "domain": [
          0,
          1
         ],
         "title": {
          "text": "variable"
         }
        },
        "yaxis": {
         "anchor": "x",
         "domain": [
          0,
          1
         ],
         "title": {
          "text": "<b>Average count</b>"
         }
        }
       }
      }
     },
     "metadata": {},
     "output_type": "display_data"
    }
   ],
   "source": [
    "import plotly.express as px\n",
    "\n",
    "\n",
    "aggregate_errors = (\n",
    "    sel_df.groupby([\"is_correct\"])[error_types + [\"Count steps\"]].mean().reset_index().melt(id_vars=[\"is_correct\"])\n",
    ")\n",
    "\n",
    "fig = px.bar(\n",
    "    aggregate_errors,\n",
    "    y=\"value\",\n",
    "    x=\"variable\",\n",
    "    color=\"is_correct\",\n",
    "    labels={\n",
    "        \"agent_name\": \"<b>Model</b>\",\n",
    "        \"task\": \"<b>Level</b>\",\n",
    "        \"aggregate_score\": \"<b>Performance</b>\",\n",
    "        \"value\": \"<b>Average count</b>\",\n",
    "        \"eval_score_GPT4\": \"<b>Score</b>\",\n",
    "    },\n",
    ")\n",
    "fig.update_layout(\n",
    "    height=500,\n",
    "    width=800,\n",
    "    barmode=\"group\",\n",
    "    bargroupgap=0.0,\n",
    ")\n",
    "fig.update_traces(textposition=\"outside\")\n",
    "fig.write_image(\"aggregate_errors.png\", scale=3)\n",
    "fig.show()"
   ]
  },
  {
   "cell_type": "markdown",
   "metadata": {},
   "source": [
    "### Inspect result by file extension type"
   ]
  },
  {
   "cell_type": "code",
   "execution_count": 15,
   "metadata": {},
   "outputs": [
    {
     "data": {
      "text/html": [
       "<div>\n",
       "<style scoped>\n",
       "    .dataframe tbody tr th:only-of-type {\n",
       "        vertical-align: middle;\n",
       "    }\n",
       "\n",
       "    .dataframe tbody tr th {\n",
       "        vertical-align: top;\n",
       "    }\n",
       "\n",
       "    .dataframe thead th {\n",
       "        text-align: right;\n",
       "    }\n",
       "</style>\n",
       "<table border=\"1\" class=\"dataframe\">\n",
       "  <thead>\n",
       "    <tr style=\"text-align: right;\">\n",
       "      <th></th>\n",
       "      <th>is_correct</th>\n",
       "      <th>count_steps</th>\n",
       "      <th>question</th>\n",
       "    </tr>\n",
       "    <tr>\n",
       "      <th>attachment_type</th>\n",
       "      <th></th>\n",
       "      <th></th>\n",
       "      <th></th>\n",
       "    </tr>\n",
       "  </thead>\n",
       "  <tbody>\n",
       "    <tr>\n",
       "      <th>None</th>\n",
       "      <td>0.423799</td>\n",
       "      <td>4.959725</td>\n",
       "      <td>2185</td>\n",
       "    </tr>\n",
       "    <tr>\n",
       "      <th>csv</th>\n",
       "      <td>0.000000</td>\n",
       "      <td>7.750000</td>\n",
       "      <td>16</td>\n",
       "    </tr>\n",
       "    <tr>\n",
       "      <th>docx</th>\n",
       "      <td>0.571429</td>\n",
       "      <td>4.904762</td>\n",
       "      <td>21</td>\n",
       "    </tr>\n",
       "    <tr>\n",
       "      <th>jpg</th>\n",
       "      <td>0.142857</td>\n",
       "      <td>5.750000</td>\n",
       "      <td>28</td>\n",
       "    </tr>\n",
       "    <tr>\n",
       "      <th>jsonld</th>\n",
       "      <td>0.000000</td>\n",
       "      <td>6.600000</td>\n",
       "      <td>15</td>\n",
       "    </tr>\n",
       "    <tr>\n",
       "      <th>mp3</th>\n",
       "      <td>0.480000</td>\n",
       "      <td>4.500000</td>\n",
       "      <td>50</td>\n",
       "    </tr>\n",
       "    <tr>\n",
       "      <th>pdb</th>\n",
       "      <td>0.000000</td>\n",
       "      <td>4.444444</td>\n",
       "      <td>18</td>\n",
       "    </tr>\n",
       "    <tr>\n",
       "      <th>pdf</th>\n",
       "      <td>0.588235</td>\n",
       "      <td>4.137255</td>\n",
       "      <td>51</td>\n",
       "    </tr>\n",
       "    <tr>\n",
       "      <th>png</th>\n",
       "      <td>0.216783</td>\n",
       "      <td>4.412587</td>\n",
       "      <td>143</td>\n",
       "    </tr>\n",
       "    <tr>\n",
       "      <th>pptx</th>\n",
       "      <td>0.882353</td>\n",
       "      <td>4.058824</td>\n",
       "      <td>17</td>\n",
       "    </tr>\n",
       "    <tr>\n",
       "      <th>py</th>\n",
       "      <td>1.000000</td>\n",
       "      <td>4.266667</td>\n",
       "      <td>15</td>\n",
       "    </tr>\n",
       "    <tr>\n",
       "      <th>txt</th>\n",
       "      <td>0.705882</td>\n",
       "      <td>4.764706</td>\n",
       "      <td>17</td>\n",
       "    </tr>\n",
       "    <tr>\n",
       "      <th>xlsx</th>\n",
       "      <td>0.612745</td>\n",
       "      <td>4.823529</td>\n",
       "      <td>204</td>\n",
       "    </tr>\n",
       "    <tr>\n",
       "      <th>zip</th>\n",
       "      <td>0.448276</td>\n",
       "      <td>5.344828</td>\n",
       "      <td>29</td>\n",
       "    </tr>\n",
       "  </tbody>\n",
       "</table>\n",
       "</div>"
      ],
      "text/plain": [
       "                 is_correct  count_steps  question\n",
       "attachment_type                                   \n",
       "None               0.423799     4.959725      2185\n",
       "csv                0.000000     7.750000        16\n",
       "docx               0.571429     4.904762        21\n",
       "jpg                0.142857     5.750000        28\n",
       "jsonld             0.000000     6.600000        15\n",
       "mp3                0.480000     4.500000        50\n",
       "pdb                0.000000     4.444444        18\n",
       "pdf                0.588235     4.137255        51\n",
       "png                0.216783     4.412587       143\n",
       "pptx               0.882353     4.058824        17\n",
       "py                 1.000000     4.266667        15\n",
       "txt                0.705882     4.764706        17\n",
       "xlsx               0.612745     4.823529       204\n",
       "zip                0.448276     5.344828        29"
      ]
     },
     "metadata": {},
     "output_type": "display_data"
    }
   ],
   "source": [
    "display(\n",
    "    result_df.groupby([\"attachment_type\"])[[\"is_correct\", \"count_steps\", \"question\"]].agg(\n",
    "        {\"is_correct\": \"mean\", \"count_steps\": \"mean\", \"question\": \"count\"}\n",
    "    )\n",
    ")"
   ]
  },
  {
   "cell_type": "markdown",
   "metadata": {},
   "source": [
    "# 4. Ensembling methods"
   ]
  },
  {
   "cell_type": "code",
   "execution_count": 16,
   "metadata": {},
   "outputs": [],
   "source": [
    "counts = result_df[\"agent_name\"].value_counts()\n",
    "long_series = result_df.loc[result_df[\"agent_name\"].isin(counts[counts > 140].index)]"
   ]
  },
  {
   "cell_type": "code",
   "execution_count": 17,
   "metadata": {},
   "outputs": [
    {
     "data": {
      "text/plain": [
       "agent_name\n",
       "code_gpt4o_03_february_goodoldtext-unbroken         38.36\n",
       "code_gpt4o_03_february_magenticbrowser              35.22\n",
       "code_gpt4o_03_february_magenticbrowser2             36.54\n",
       "code_gpt4o_03_february_text                         37.58\n",
       "code_o1_01_february_text                            49.09\n",
       "code_o1_03_february_ablation-toolcalling-manager    32.73\n",
       "code_o1_03_february_fix-print-outputs               51.83\n",
       "code_o1_03_february_fix-print-outputs2              55.77\n",
       "code_o1_03_february_goodoldtext-unbroken            53.42\n",
       "code_o1_03_february_remove-navigational             53.66\n",
       "code_o1_03_february_text_high-reasoning-effort      48.48\n",
       "code_o1_04_february_submission                      49.38\n",
       "code_o1_04_february_submission5                     55.15\n",
       "code_o3-mini_03_february_remove-navigational        29.09\n",
       "Name: is_correct, dtype: float64"
      ]
     },
     "metadata": {},
     "output_type": "display_data"
    },
    {
     "name": "stdout",
     "output_type": "stream",
     "text": [
      "Majority score: 58.18\n",
      "Oracle score: 72.73\n"
     ]
    },
    {
     "name": "stderr",
     "output_type": "stream",
     "text": [
      "/var/folders/6m/9b1tts6d5w960j80wbw9tx3m0000gn/T/ipykernel_25011/3287428472.py:20: DeprecationWarning:\n",
      "\n",
      "DataFrameGroupBy.apply operated on the grouping columns. This behavior is deprecated, and in a future version of pandas the grouping columns will be excluded from the operation. Either pass `include_groups=False` to exclude the groupings or explicitly select the grouping columns after groupby to silence this warning.\n",
      "\n"
     ]
    }
   ],
   "source": [
    "def majority_vote(df):\n",
    "    df = df[(df[\"prediction\"] != \"Unable to determine\") & (~df[\"prediction\"].isna()) & (df[\"prediction\"] != \"None\")]\n",
    "\n",
    "    answer_modes = df.groupby(\"question\")[\"prediction\"].agg(lambda x: x.mode()[0]).reset_index()\n",
    "    first_occurrences = (\n",
    "        df.groupby([\"question\", \"prediction\"]).agg({\"task\": \"first\", \"is_correct\": \"first\"}).reset_index()\n",
    "    )\n",
    "    result = answer_modes.merge(first_occurrences, on=[\"question\", \"prediction\"], how=\"left\")\n",
    "\n",
    "    return result\n",
    "\n",
    "\n",
    "def oracle(df):\n",
    "    def get_first_correct_or_first_wrong(group):\n",
    "        correct_answers = group[group[\"is_correct\"]]\n",
    "        if len(correct_answers) > 0:\n",
    "            return correct_answers.iloc[0]\n",
    "        return group.iloc[0]\n",
    "\n",
    "    result = df.groupby(\"question\").apply(get_first_correct_or_first_wrong)\n",
    "\n",
    "    return result.reset_index(drop=True)\n",
    "\n",
    "\n",
    "display((long_series.groupby(\"agent_name\")[\"is_correct\"].mean() * 100).round(2))\n",
    "print(f\"Majority score: {majority_vote(long_series)['is_correct'].mean() * 100:.2f}\")\n",
    "print(f\"Oracle score: {oracle(long_series)['is_correct'].mean() * 100:.2f}\")"
   ]
  },
  {
   "cell_type": "markdown",
   "metadata": {},
   "source": [
    "### Submit"
   ]
  },
  {
   "cell_type": "code",
   "execution_count": 18,
   "metadata": {},
   "outputs": [],
   "source": [
    "agent_run = \"code_o1_04_february_submission5.jsonl\"\n",
    "df = pd.read_json(f\"output/validation/{agent_run}\", lines=True)\n",
    "df = df[[\"task_id\", \"prediction\", \"intermediate_steps\"]]\n",
    "df = df.rename(columns={\"prediction\": \"model_answer\", \"intermediate_steps\": \"reasoning_trace\"})"
   ]
  },
  {
   "cell_type": "code",
   "execution_count": 19,
   "metadata": {},
   "outputs": [],
   "source": [
    "df.to_json(\"submission.jsonl\", orient=\"records\", lines=True)"
   ]
  },
  {
   "cell_type": "code",
   "execution_count": null,
   "metadata": {},
   "outputs": [],
   "source": []
  }
 ],
 "metadata": {
  "kernelspec": {
   "display_name": "test",
   "language": "python",
   "name": "test"
  },
  "language_info": {
   "codemirror_mode": {
    "name": "ipython",
    "version": 3
   },
   "file_extension": ".py",
   "mimetype": "text/x-python",
   "name": "python",
   "nbconvert_exporter": "python",
   "pygments_lexer": "ipython3",
   "version": "3.12.0"
  }
 },
 "nbformat": 4,
 "nbformat_minor": 2
}
